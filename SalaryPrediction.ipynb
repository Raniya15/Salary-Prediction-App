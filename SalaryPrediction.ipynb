{
 "cells": [
  {
   "cell_type": "code",
   "execution_count": 1,
   "id": "111946ce-1ad5-4496-bdce-bc336e1dc8ac",
   "metadata": {},
   "outputs": [],
   "source": [
    "import pandas as pd\n",
    "import matplotlib.pyplot as plt"
   ]
  },
  {
   "cell_type": "code",
   "execution_count": 2,
   "id": "dbe5451b-dda7-47d0-a640-06a16a90f760",
   "metadata": {},
   "outputs": [],
   "source": [
    "df = pd.read_csv(\"survey_results_public.csv\")"
   ]
  },
  {
   "cell_type": "code",
   "execution_count": 3,
   "id": "fd798a74-6c9e-4ca1-a969-aefb15a5e3d6",
   "metadata": {},
   "outputs": [
    {
     "data": {
      "text/html": [
       "<div>\n",
       "<style scoped>\n",
       "    .dataframe tbody tr th:only-of-type {\n",
       "        vertical-align: middle;\n",
       "    }\n",
       "\n",
       "    .dataframe tbody tr th {\n",
       "        vertical-align: top;\n",
       "    }\n",
       "\n",
       "    .dataframe thead th {\n",
       "        text-align: right;\n",
       "    }\n",
       "</style>\n",
       "<table border=\"1\" class=\"dataframe\">\n",
       "  <thead>\n",
       "    <tr style=\"text-align: right;\">\n",
       "      <th></th>\n",
       "      <th>ResponseId</th>\n",
       "      <th>MainBranch</th>\n",
       "      <th>Age</th>\n",
       "      <th>Employment</th>\n",
       "      <th>RemoteWork</th>\n",
       "      <th>Check</th>\n",
       "      <th>CodingActivities</th>\n",
       "      <th>EdLevel</th>\n",
       "      <th>LearnCode</th>\n",
       "      <th>LearnCodeOnline</th>\n",
       "      <th>...</th>\n",
       "      <th>JobSatPoints_6</th>\n",
       "      <th>JobSatPoints_7</th>\n",
       "      <th>JobSatPoints_8</th>\n",
       "      <th>JobSatPoints_9</th>\n",
       "      <th>JobSatPoints_10</th>\n",
       "      <th>JobSatPoints_11</th>\n",
       "      <th>SurveyLength</th>\n",
       "      <th>SurveyEase</th>\n",
       "      <th>ConvertedCompYearly</th>\n",
       "      <th>JobSat</th>\n",
       "    </tr>\n",
       "  </thead>\n",
       "  <tbody>\n",
       "    <tr>\n",
       "      <th>0</th>\n",
       "      <td>1</td>\n",
       "      <td>I am a developer by profession</td>\n",
       "      <td>Under 18 years old</td>\n",
       "      <td>Employed, full-time</td>\n",
       "      <td>Remote</td>\n",
       "      <td>Apples</td>\n",
       "      <td>Hobby</td>\n",
       "      <td>Primary/elementary school</td>\n",
       "      <td>Books / Physical media</td>\n",
       "      <td>NaN</td>\n",
       "      <td>...</td>\n",
       "      <td>NaN</td>\n",
       "      <td>NaN</td>\n",
       "      <td>NaN</td>\n",
       "      <td>NaN</td>\n",
       "      <td>NaN</td>\n",
       "      <td>NaN</td>\n",
       "      <td>NaN</td>\n",
       "      <td>NaN</td>\n",
       "      <td>NaN</td>\n",
       "      <td>NaN</td>\n",
       "    </tr>\n",
       "    <tr>\n",
       "      <th>1</th>\n",
       "      <td>2</td>\n",
       "      <td>I am a developer by profession</td>\n",
       "      <td>35-44 years old</td>\n",
       "      <td>Employed, full-time</td>\n",
       "      <td>Remote</td>\n",
       "      <td>Apples</td>\n",
       "      <td>Hobby;Contribute to open-source projects;Other...</td>\n",
       "      <td>Bachelor’s degree (B.A., B.S., B.Eng., etc.)</td>\n",
       "      <td>Books / Physical media;Colleague;On the job tr...</td>\n",
       "      <td>Technical documentation;Blogs;Books;Written Tu...</td>\n",
       "      <td>...</td>\n",
       "      <td>0.0</td>\n",
       "      <td>0.0</td>\n",
       "      <td>0.0</td>\n",
       "      <td>0.0</td>\n",
       "      <td>0.0</td>\n",
       "      <td>0.0</td>\n",
       "      <td>NaN</td>\n",
       "      <td>NaN</td>\n",
       "      <td>NaN</td>\n",
       "      <td>NaN</td>\n",
       "    </tr>\n",
       "    <tr>\n",
       "      <th>2</th>\n",
       "      <td>3</td>\n",
       "      <td>I am a developer by profession</td>\n",
       "      <td>45-54 years old</td>\n",
       "      <td>Employed, full-time</td>\n",
       "      <td>Remote</td>\n",
       "      <td>Apples</td>\n",
       "      <td>Hobby;Contribute to open-source projects;Other...</td>\n",
       "      <td>Master’s degree (M.A., M.S., M.Eng., MBA, etc.)</td>\n",
       "      <td>Books / Physical media;Colleague;On the job tr...</td>\n",
       "      <td>Technical documentation;Blogs;Books;Written Tu...</td>\n",
       "      <td>...</td>\n",
       "      <td>NaN</td>\n",
       "      <td>NaN</td>\n",
       "      <td>NaN</td>\n",
       "      <td>NaN</td>\n",
       "      <td>NaN</td>\n",
       "      <td>NaN</td>\n",
       "      <td>Appropriate in length</td>\n",
       "      <td>Easy</td>\n",
       "      <td>NaN</td>\n",
       "      <td>NaN</td>\n",
       "    </tr>\n",
       "    <tr>\n",
       "      <th>3</th>\n",
       "      <td>4</td>\n",
       "      <td>I am learning to code</td>\n",
       "      <td>18-24 years old</td>\n",
       "      <td>Student, full-time</td>\n",
       "      <td>NaN</td>\n",
       "      <td>Apples</td>\n",
       "      <td>NaN</td>\n",
       "      <td>Some college/university study without earning ...</td>\n",
       "      <td>Other online resources (e.g., videos, blogs, f...</td>\n",
       "      <td>Stack Overflow;How-to videos;Interactive tutorial</td>\n",
       "      <td>...</td>\n",
       "      <td>NaN</td>\n",
       "      <td>NaN</td>\n",
       "      <td>NaN</td>\n",
       "      <td>NaN</td>\n",
       "      <td>NaN</td>\n",
       "      <td>NaN</td>\n",
       "      <td>Too long</td>\n",
       "      <td>Easy</td>\n",
       "      <td>NaN</td>\n",
       "      <td>NaN</td>\n",
       "    </tr>\n",
       "    <tr>\n",
       "      <th>4</th>\n",
       "      <td>5</td>\n",
       "      <td>I am a developer by profession</td>\n",
       "      <td>18-24 years old</td>\n",
       "      <td>Student, full-time</td>\n",
       "      <td>NaN</td>\n",
       "      <td>Apples</td>\n",
       "      <td>NaN</td>\n",
       "      <td>Secondary school (e.g. American high school, G...</td>\n",
       "      <td>Other online resources (e.g., videos, blogs, f...</td>\n",
       "      <td>Technical documentation;Blogs;Written Tutorial...</td>\n",
       "      <td>...</td>\n",
       "      <td>NaN</td>\n",
       "      <td>NaN</td>\n",
       "      <td>NaN</td>\n",
       "      <td>NaN</td>\n",
       "      <td>NaN</td>\n",
       "      <td>NaN</td>\n",
       "      <td>Too short</td>\n",
       "      <td>Easy</td>\n",
       "      <td>NaN</td>\n",
       "      <td>NaN</td>\n",
       "    </tr>\n",
       "  </tbody>\n",
       "</table>\n",
       "<p>5 rows × 114 columns</p>\n",
       "</div>"
      ],
      "text/plain": [
       "   ResponseId                      MainBranch                 Age  \\\n",
       "0           1  I am a developer by profession  Under 18 years old   \n",
       "1           2  I am a developer by profession     35-44 years old   \n",
       "2           3  I am a developer by profession     45-54 years old   \n",
       "3           4           I am learning to code     18-24 years old   \n",
       "4           5  I am a developer by profession     18-24 years old   \n",
       "\n",
       "            Employment RemoteWork   Check  \\\n",
       "0  Employed, full-time     Remote  Apples   \n",
       "1  Employed, full-time     Remote  Apples   \n",
       "2  Employed, full-time     Remote  Apples   \n",
       "3   Student, full-time        NaN  Apples   \n",
       "4   Student, full-time        NaN  Apples   \n",
       "\n",
       "                                    CodingActivities  \\\n",
       "0                                              Hobby   \n",
       "1  Hobby;Contribute to open-source projects;Other...   \n",
       "2  Hobby;Contribute to open-source projects;Other...   \n",
       "3                                                NaN   \n",
       "4                                                NaN   \n",
       "\n",
       "                                             EdLevel  \\\n",
       "0                          Primary/elementary school   \n",
       "1       Bachelor’s degree (B.A., B.S., B.Eng., etc.)   \n",
       "2    Master’s degree (M.A., M.S., M.Eng., MBA, etc.)   \n",
       "3  Some college/university study without earning ...   \n",
       "4  Secondary school (e.g. American high school, G...   \n",
       "\n",
       "                                           LearnCode  \\\n",
       "0                             Books / Physical media   \n",
       "1  Books / Physical media;Colleague;On the job tr...   \n",
       "2  Books / Physical media;Colleague;On the job tr...   \n",
       "3  Other online resources (e.g., videos, blogs, f...   \n",
       "4  Other online resources (e.g., videos, blogs, f...   \n",
       "\n",
       "                                     LearnCodeOnline  ... JobSatPoints_6  \\\n",
       "0                                                NaN  ...            NaN   \n",
       "1  Technical documentation;Blogs;Books;Written Tu...  ...            0.0   \n",
       "2  Technical documentation;Blogs;Books;Written Tu...  ...            NaN   \n",
       "3  Stack Overflow;How-to videos;Interactive tutorial  ...            NaN   \n",
       "4  Technical documentation;Blogs;Written Tutorial...  ...            NaN   \n",
       "\n",
       "  JobSatPoints_7 JobSatPoints_8 JobSatPoints_9 JobSatPoints_10  \\\n",
       "0            NaN            NaN            NaN             NaN   \n",
       "1            0.0            0.0            0.0             0.0   \n",
       "2            NaN            NaN            NaN             NaN   \n",
       "3            NaN            NaN            NaN             NaN   \n",
       "4            NaN            NaN            NaN             NaN   \n",
       "\n",
       "  JobSatPoints_11           SurveyLength SurveyEase ConvertedCompYearly JobSat  \n",
       "0             NaN                    NaN        NaN                 NaN    NaN  \n",
       "1             0.0                    NaN        NaN                 NaN    NaN  \n",
       "2             NaN  Appropriate in length       Easy                 NaN    NaN  \n",
       "3             NaN               Too long       Easy                 NaN    NaN  \n",
       "4             NaN              Too short       Easy                 NaN    NaN  \n",
       "\n",
       "[5 rows x 114 columns]"
      ]
     },
     "execution_count": 3,
     "metadata": {},
     "output_type": "execute_result"
    }
   ],
   "source": [
    "df.head()"
   ]
  },
  {
   "cell_type": "code",
   "execution_count": 4,
   "id": "10be4194-c0b7-4a11-977d-70b9dbe1eb78",
   "metadata": {},
   "outputs": [
    {
     "data": {
      "text/plain": [
       "Index(['ResponseId', 'MainBranch', 'Age', 'Employment', 'RemoteWork', 'Check',\n",
       "       'CodingActivities', 'EdLevel', 'LearnCode', 'LearnCodeOnline',\n",
       "       ...\n",
       "       'JobSatPoints_6', 'JobSatPoints_7', 'JobSatPoints_8', 'JobSatPoints_9',\n",
       "       'JobSatPoints_10', 'JobSatPoints_11', 'SurveyLength', 'SurveyEase',\n",
       "       'ConvertedCompYearly', 'JobSat'],\n",
       "      dtype='object', length=114)"
      ]
     },
     "execution_count": 4,
     "metadata": {},
     "output_type": "execute_result"
    }
   ],
   "source": [
    "df.columns"
   ]
  },
  {
   "cell_type": "code",
   "execution_count": 5,
   "id": "1b635c74-251c-4d45-8fd8-42fd3fb3a0e8",
   "metadata": {},
   "outputs": [],
   "source": [
    "df = df[['Country', 'EdLevel', 'YearsCodePro', 'Employment', 'ConvertedCompYearly']]"
   ]
  },
  {
   "cell_type": "code",
   "execution_count": 6,
   "id": "1226efb5-e11f-4054-8a06-5423a4d4c3a5",
   "metadata": {},
   "outputs": [
    {
     "data": {
      "text/html": [
       "<div>\n",
       "<style scoped>\n",
       "    .dataframe tbody tr th:only-of-type {\n",
       "        vertical-align: middle;\n",
       "    }\n",
       "\n",
       "    .dataframe tbody tr th {\n",
       "        vertical-align: top;\n",
       "    }\n",
       "\n",
       "    .dataframe thead th {\n",
       "        text-align: right;\n",
       "    }\n",
       "</style>\n",
       "<table border=\"1\" class=\"dataframe\">\n",
       "  <thead>\n",
       "    <tr style=\"text-align: right;\">\n",
       "      <th></th>\n",
       "      <th>Country</th>\n",
       "      <th>EdLevel</th>\n",
       "      <th>YearsCodePro</th>\n",
       "      <th>Employment</th>\n",
       "      <th>Salary</th>\n",
       "    </tr>\n",
       "  </thead>\n",
       "  <tbody>\n",
       "    <tr>\n",
       "      <th>0</th>\n",
       "      <td>United States of America</td>\n",
       "      <td>Primary/elementary school</td>\n",
       "      <td>NaN</td>\n",
       "      <td>Employed, full-time</td>\n",
       "      <td>NaN</td>\n",
       "    </tr>\n",
       "    <tr>\n",
       "      <th>1</th>\n",
       "      <td>United Kingdom of Great Britain and Northern I...</td>\n",
       "      <td>Bachelor’s degree (B.A., B.S., B.Eng., etc.)</td>\n",
       "      <td>17</td>\n",
       "      <td>Employed, full-time</td>\n",
       "      <td>NaN</td>\n",
       "    </tr>\n",
       "    <tr>\n",
       "      <th>2</th>\n",
       "      <td>United Kingdom of Great Britain and Northern I...</td>\n",
       "      <td>Master’s degree (M.A., M.S., M.Eng., MBA, etc.)</td>\n",
       "      <td>27</td>\n",
       "      <td>Employed, full-time</td>\n",
       "      <td>NaN</td>\n",
       "    </tr>\n",
       "    <tr>\n",
       "      <th>3</th>\n",
       "      <td>Canada</td>\n",
       "      <td>Some college/university study without earning ...</td>\n",
       "      <td>NaN</td>\n",
       "      <td>Student, full-time</td>\n",
       "      <td>NaN</td>\n",
       "    </tr>\n",
       "    <tr>\n",
       "      <th>4</th>\n",
       "      <td>Norway</td>\n",
       "      <td>Secondary school (e.g. American high school, G...</td>\n",
       "      <td>NaN</td>\n",
       "      <td>Student, full-time</td>\n",
       "      <td>NaN</td>\n",
       "    </tr>\n",
       "  </tbody>\n",
       "</table>\n",
       "</div>"
      ],
      "text/plain": [
       "                                             Country  \\\n",
       "0                           United States of America   \n",
       "1  United Kingdom of Great Britain and Northern I...   \n",
       "2  United Kingdom of Great Britain and Northern I...   \n",
       "3                                             Canada   \n",
       "4                                             Norway   \n",
       "\n",
       "                                             EdLevel YearsCodePro  \\\n",
       "0                          Primary/elementary school          NaN   \n",
       "1       Bachelor’s degree (B.A., B.S., B.Eng., etc.)           17   \n",
       "2    Master’s degree (M.A., M.S., M.Eng., MBA, etc.)           27   \n",
       "3  Some college/university study without earning ...          NaN   \n",
       "4  Secondary school (e.g. American high school, G...          NaN   \n",
       "\n",
       "            Employment  Salary  \n",
       "0  Employed, full-time     NaN  \n",
       "1  Employed, full-time     NaN  \n",
       "2  Employed, full-time     NaN  \n",
       "3   Student, full-time     NaN  \n",
       "4   Student, full-time     NaN  "
      ]
     },
     "execution_count": 6,
     "metadata": {},
     "output_type": "execute_result"
    }
   ],
   "source": [
    "df.rename(columns={'ConvertedCompYearly': 'Salary'}, inplace=True)\n",
    "df.head()"
   ]
  },
  {
   "cell_type": "code",
   "execution_count": 7,
   "id": "f0e1829f-4ab3-4d94-92ea-3ffe9a0337b5",
   "metadata": {},
   "outputs": [
    {
     "name": "stdout",
     "output_type": "stream",
     "text": [
      "<class 'pandas.core.frame.DataFrame'>\n",
      "RangeIndex: 65437 entries, 0 to 65436\n",
      "Data columns (total 5 columns):\n",
      " #   Column        Non-Null Count  Dtype  \n",
      "---  ------        --------------  -----  \n",
      " 0   Country       58930 non-null  object \n",
      " 1   EdLevel       60784 non-null  object \n",
      " 2   YearsCodePro  51610 non-null  object \n",
      " 3   Employment    65437 non-null  object \n",
      " 4   Salary        23435 non-null  float64\n",
      "dtypes: float64(1), object(4)\n",
      "memory usage: 2.5+ MB\n"
     ]
    }
   ],
   "source": [
    "df.info()"
   ]
  },
  {
   "cell_type": "code",
   "execution_count": 8,
   "id": "823af6a6-ea19-42d5-aca8-c4d9ac0cacef",
   "metadata": {},
   "outputs": [
    {
     "data": {
      "text/plain": [
       "Country         0\n",
       "EdLevel         0\n",
       "YearsCodePro    0\n",
       "Employment      0\n",
       "Salary          0\n",
       "dtype: int64"
      ]
     },
     "execution_count": 8,
     "metadata": {},
     "output_type": "execute_result"
    }
   ],
   "source": [
    "# Since the dataset is relatively large, we can drop the missing values rather than carrying out Imputation\n",
    "df = df.dropna()  \n",
    "df.isnull().sum()"
   ]
  },
  {
   "cell_type": "code",
   "execution_count": 9,
   "id": "ef2f4d70-959f-4715-981e-1607bd0870e2",
   "metadata": {},
   "outputs": [
    {
     "name": "stdout",
     "output_type": "stream",
     "text": [
      "<class 'pandas.core.frame.DataFrame'>\n",
      "Index: 23345 entries, 72 to 41187\n",
      "Data columns (total 5 columns):\n",
      " #   Column        Non-Null Count  Dtype  \n",
      "---  ------        --------------  -----  \n",
      " 0   Country       23345 non-null  object \n",
      " 1   EdLevel       23345 non-null  object \n",
      " 2   YearsCodePro  23345 non-null  object \n",
      " 3   Employment    23345 non-null  object \n",
      " 4   Salary        23345 non-null  float64\n",
      "dtypes: float64(1), object(4)\n",
      "memory usage: 1.1+ MB\n"
     ]
    }
   ],
   "source": [
    "df.info()"
   ]
  },
  {
   "cell_type": "code",
   "execution_count": 10,
   "id": "5c4bd091-7847-4482-a44b-12612ff1c16d",
   "metadata": {},
   "outputs": [
    {
     "data": {
      "text/plain": [
       "array(['Employed, full-time;Student, full-time;Independent contractor, freelancer, or self-employed;Employed, part-time',\n",
       "       'Employed, full-time',\n",
       "       'Independent contractor, freelancer, or self-employed',\n",
       "       'Employed, full-time;Student, part-time',\n",
       "       'Employed, full-time;Independent contractor, freelancer, or self-employed',\n",
       "       'Employed, full-time;Student, full-time',\n",
       "       'Student, part-time;Employed, part-time',\n",
       "       'Student, full-time;Independent contractor, freelancer, or self-employed',\n",
       "       'Retired',\n",
       "       'Independent contractor, freelancer, or self-employed;Employed, part-time',\n",
       "       'Not employed, but looking for work', 'Employed, part-time',\n",
       "       'Employed, full-time;Independent contractor, freelancer, or self-employed;Student, part-time',\n",
       "       'Employed, full-time;Independent contractor, freelancer, or self-employed;Employed, part-time',\n",
       "       'Student, full-time;Employed, part-time',\n",
       "       'Employed, full-time;Employed, part-time',\n",
       "       'Independent contractor, freelancer, or self-employed;Student, part-time',\n",
       "       'Employed, full-time;Not employed, but looking for work',\n",
       "       'Employed, full-time;Retired',\n",
       "       'Independent contractor, freelancer, or self-employed;Retired',\n",
       "       'Not employed, but looking for work;Independent contractor, freelancer, or self-employed',\n",
       "       'Not employed, but looking for work;Independent contractor, freelancer, or self-employed;Employed, part-time',\n",
       "       'Employed, full-time;Independent contractor, freelancer, or self-employed;Student, part-time;Employed, part-time',\n",
       "       'Independent contractor, freelancer, or self-employed;Not employed, and not looking for work',\n",
       "       'Not employed, but looking for work;Student, part-time;Employed, part-time',\n",
       "       'Employed, full-time;Independent contractor, freelancer, or self-employed;Not employed, and not looking for work',\n",
       "       'Student, full-time;Independent contractor, freelancer, or self-employed;Employed, part-time',\n",
       "       'Employed, full-time;Student, full-time;Student, part-time',\n",
       "       'Employed, full-time;Student, full-time;Not employed, but looking for work',\n",
       "       'Employed, full-time;Student, full-time;Independent contractor, freelancer, or self-employed',\n",
       "       'Independent contractor, freelancer, or self-employed;Student, part-time;Employed, part-time',\n",
       "       'Employed, full-time;Not employed, but looking for work;Employed, part-time',\n",
       "       'Not employed, but looking for work;Employed, part-time',\n",
       "       'Employed, full-time;Not employed, but looking for work;Independent contractor, freelancer, or self-employed',\n",
       "       'Student, full-time;Not employed, but looking for work;Independent contractor, freelancer, or self-employed',\n",
       "       'Independent contractor, freelancer, or self-employed;Not employed, and not looking for work;Student, part-time',\n",
       "       'Employed, full-time;Student, full-time;Employed, part-time',\n",
       "       'Employed, full-time;Student, full-time;Not employed, but looking for work;Independent contractor, freelancer, or self-employed;Student, part-time;Employed, part-time',\n",
       "       'Employed, full-time;Student, full-time;Student, part-time;Employed, part-time',\n",
       "       'Not employed, but looking for work;Independent contractor, freelancer, or self-employed;Student, part-time;Employed, part-time',\n",
       "       'Not employed, but looking for work;Independent contractor, freelancer, or self-employed;Student, part-time',\n",
       "       'Student, full-time;Independent contractor, freelancer, or self-employed;Not employed, and not looking for work',\n",
       "       'Employed, full-time;Independent contractor, freelancer, or self-employed;Student, part-time;Retired',\n",
       "       'Employed, full-time;Not employed, and not looking for work',\n",
       "       'Employed, full-time;Student, part-time;Employed, part-time',\n",
       "       'Not employed, but looking for work;Independent contractor, freelancer, or self-employed;Retired',\n",
       "       'Employed, part-time;Retired',\n",
       "       'Employed, full-time;Not employed, but looking for work;Independent contractor, freelancer, or self-employed;Employed, part-time',\n",
       "       'Student, full-time;Independent contractor, freelancer, or self-employed;Student, part-time;Employed, part-time',\n",
       "       'Independent contractor, freelancer, or self-employed;Not employed, and not looking for work;Retired',\n",
       "       'Not employed, but looking for work;Independent contractor, freelancer, or self-employed;Not employed, and not looking for work',\n",
       "       'Employed, full-time;Not employed, but looking for work;Not employed, and not looking for work;Employed, part-time',\n",
       "       'Independent contractor, freelancer, or self-employed;Employed, part-time;Retired',\n",
       "       'Employed, full-time;Student, full-time;Not employed, but looking for work;Independent contractor, freelancer, or self-employed;Not employed, and not looking for work;Student, part-time;Employed, part-time;Retired',\n",
       "       'Student, full-time;Not employed, but looking for work;Employed, part-time'],\n",
       "      dtype=object)"
      ]
     },
     "execution_count": 10,
     "metadata": {},
     "output_type": "execute_result"
    }
   ],
   "source": [
    "df['Employment'].unique()"
   ]
  },
  {
   "cell_type": "code",
   "execution_count": 11,
   "id": "9fbadd2b-9816-46cc-a09d-322f94df087f",
   "metadata": {},
   "outputs": [
    {
     "data": {
      "text/plain": [
       "166"
      ]
     },
     "execution_count": 11,
     "metadata": {},
     "output_type": "execute_result"
    }
   ],
   "source": [
    "df['Country'].nunique()"
   ]
  },
  {
   "cell_type": "code",
   "execution_count": 12,
   "id": "969e8f6d-da93-42f1-8a02-1f6df5fd99b5",
   "metadata": {},
   "outputs": [],
   "source": [
    "df = df[df['Employment'].str.contains('Employed, full-time')]"
   ]
  },
  {
   "cell_type": "code",
   "execution_count": 13,
   "id": "524b44ce-de89-4fbe-b19d-00daaf37ca76",
   "metadata": {},
   "outputs": [
    {
     "data": {
      "text/html": [
       "<div>\n",
       "<style scoped>\n",
       "    .dataframe tbody tr th:only-of-type {\n",
       "        vertical-align: middle;\n",
       "    }\n",
       "\n",
       "    .dataframe tbody tr th {\n",
       "        vertical-align: top;\n",
       "    }\n",
       "\n",
       "    .dataframe thead th {\n",
       "        text-align: right;\n",
       "    }\n",
       "</style>\n",
       "<table border=\"1\" class=\"dataframe\">\n",
       "  <thead>\n",
       "    <tr style=\"text-align: right;\">\n",
       "      <th></th>\n",
       "      <th>Country</th>\n",
       "      <th>EdLevel</th>\n",
       "      <th>YearsCodePro</th>\n",
       "      <th>Employment</th>\n",
       "      <th>Salary</th>\n",
       "    </tr>\n",
       "  </thead>\n",
       "  <tbody>\n",
       "    <tr>\n",
       "      <th>72</th>\n",
       "      <td>Pakistan</td>\n",
       "      <td>Secondary school (e.g. American high school, G...</td>\n",
       "      <td>1</td>\n",
       "      <td>Employed, full-time;Student, full-time;Indepen...</td>\n",
       "      <td>7322.0</td>\n",
       "    </tr>\n",
       "    <tr>\n",
       "      <th>374</th>\n",
       "      <td>Austria</td>\n",
       "      <td>Professional degree (JD, MD, Ph.D, Ed.D, etc.)</td>\n",
       "      <td>6</td>\n",
       "      <td>Employed, full-time</td>\n",
       "      <td>30074.0</td>\n",
       "    </tr>\n",
       "    <tr>\n",
       "      <th>379</th>\n",
       "      <td>Turkey</td>\n",
       "      <td>Master’s degree (M.A., M.S., M.Eng., MBA, etc.)</td>\n",
       "      <td>6</td>\n",
       "      <td>Employed, full-time</td>\n",
       "      <td>91295.0</td>\n",
       "    </tr>\n",
       "    <tr>\n",
       "      <th>389</th>\n",
       "      <td>United States of America</td>\n",
       "      <td>Some college/university study without earning ...</td>\n",
       "      <td>7</td>\n",
       "      <td>Employed, full-time;Student, part-time</td>\n",
       "      <td>110000.0</td>\n",
       "    </tr>\n",
       "    <tr>\n",
       "      <th>392</th>\n",
       "      <td>United Kingdom of Great Britain and Northern I...</td>\n",
       "      <td>Professional degree (JD, MD, Ph.D, Ed.D, etc.)</td>\n",
       "      <td>18</td>\n",
       "      <td>Employed, full-time</td>\n",
       "      <td>161044.0</td>\n",
       "    </tr>\n",
       "  </tbody>\n",
       "</table>\n",
       "</div>"
      ],
      "text/plain": [
       "                                               Country  \\\n",
       "72                                            Pakistan   \n",
       "374                                            Austria   \n",
       "379                                             Turkey   \n",
       "389                           United States of America   \n",
       "392  United Kingdom of Great Britain and Northern I...   \n",
       "\n",
       "                                               EdLevel YearsCodePro  \\\n",
       "72   Secondary school (e.g. American high school, G...            1   \n",
       "374     Professional degree (JD, MD, Ph.D, Ed.D, etc.)            6   \n",
       "379    Master’s degree (M.A., M.S., M.Eng., MBA, etc.)            6   \n",
       "389  Some college/university study without earning ...            7   \n",
       "392     Professional degree (JD, MD, Ph.D, Ed.D, etc.)           18   \n",
       "\n",
       "                                            Employment    Salary  \n",
       "72   Employed, full-time;Student, full-time;Indepen...    7322.0  \n",
       "374                                Employed, full-time   30074.0  \n",
       "379                                Employed, full-time   91295.0  \n",
       "389             Employed, full-time;Student, part-time  110000.0  \n",
       "392                                Employed, full-time  161044.0  "
      ]
     },
     "execution_count": 13,
     "metadata": {},
     "output_type": "execute_result"
    }
   ],
   "source": [
    "df.head()"
   ]
  },
  {
   "cell_type": "code",
   "execution_count": 14,
   "id": "bb891c3b-fe49-4f15-b4e9-04bf878597b0",
   "metadata": {},
   "outputs": [
    {
     "name": "stdout",
     "output_type": "stream",
     "text": [
      "<class 'pandas.core.frame.DataFrame'>\n",
      "Index: 20302 entries, 72 to 41187\n",
      "Data columns (total 5 columns):\n",
      " #   Column        Non-Null Count  Dtype  \n",
      "---  ------        --------------  -----  \n",
      " 0   Country       20302 non-null  object \n",
      " 1   EdLevel       20302 non-null  object \n",
      " 2   YearsCodePro  20302 non-null  object \n",
      " 3   Employment    20302 non-null  object \n",
      " 4   Salary        20302 non-null  float64\n",
      "dtypes: float64(1), object(4)\n",
      "memory usage: 951.7+ KB\n"
     ]
    }
   ],
   "source": [
    "df.info()"
   ]
  },
  {
   "cell_type": "code",
   "execution_count": 15,
   "id": "a77766b3-d1e2-414b-b712-b3e34f6f7245",
   "metadata": {},
   "outputs": [
    {
     "data": {
      "text/plain": [
       "Country\n",
       "United States of America                                4351\n",
       "Germany                                                 1657\n",
       "Ukraine                                                 1333\n",
       "United Kingdom of Great Britain and Northern Ireland    1239\n",
       "India                                                    934\n",
       "                                                        ... \n",
       "Lesotho                                                    1\n",
       "Burundi                                                    1\n",
       "Barbados                                                   1\n",
       "Mali                                                       1\n",
       "Congo, Republic of the...                                  1\n",
       "Name: count, Length: 160, dtype: int64"
      ]
     },
     "execution_count": 15,
     "metadata": {},
     "output_type": "execute_result"
    }
   ],
   "source": [
    "df['Country'].value_counts()"
   ]
  },
  {
   "cell_type": "code",
   "execution_count": 16,
   "id": "e077f988-80af-4c8b-aea9-ad0f936f4d3b",
   "metadata": {},
   "outputs": [],
   "source": [
    "def cleaned_cat(categories, cutoff):\n",
    "    categorical_map = {}\n",
    "    for i in range(len(categories)):\n",
    "        if categories.values[i] >= cutoff:\n",
    "            categorical_map[categories.index[i]] = categories.index[i]\n",
    "        else: \n",
    "            categorical_map[categories.index[i]] = 'Other'\n",
    "    return categorical_map\n"
   ]
  },
  {
   "cell_type": "code",
   "execution_count": 17,
   "id": "a05954fa-b2c5-4abe-91e7-795b3b8f1127",
   "metadata": {},
   "outputs": [
    {
     "data": {
      "text/plain": [
       "Country\n",
       "Other                                                   5943\n",
       "United States of America                                4351\n",
       "Germany                                                 1657\n",
       "Ukraine                                                 1333\n",
       "United Kingdom of Great Britain and Northern Ireland    1239\n",
       "India                                                    934\n",
       "France                                                   784\n",
       "Canada                                                   778\n",
       "Brazil                                                   601\n",
       "Spain                                                    498\n",
       "Italy                                                    456\n",
       "Australia                                                444\n",
       "Poland                                                   441\n",
       "Netherlands                                              440\n",
       "Sweden                                                   403\n",
       "Name: count, dtype: int64"
      ]
     },
     "execution_count": 17,
     "metadata": {},
     "output_type": "execute_result"
    }
   ],
   "source": [
    "country_map = cleaned_cat(df['Country'].value_counts(), 400)\n",
    "df['Country'] = df['Country'].map(country_map)\n",
    "df['Country'].value_counts()"
   ]
  },
  {
   "cell_type": "code",
   "execution_count": 18,
   "id": "0eb70905-f680-429d-bb60-d887c7e618ac",
   "metadata": {},
   "outputs": [
    {
     "data": {
      "text/plain": [
       "15"
      ]
     },
     "execution_count": 18,
     "metadata": {},
     "output_type": "execute_result"
    }
   ],
   "source": [
    "df['Country'].nunique()"
   ]
  },
  {
   "cell_type": "code",
   "execution_count": 19,
   "id": "0a30c5fc-b347-4c20-95f4-b16ba73d2360",
   "metadata": {},
   "outputs": [
    {
     "data": {
      "image/png": "[encoded data removed]",
      "text/plain": [
       "<Figure size 1200x800 with 1 Axes>"
      ]
     },
     "metadata": {},
     "output_type": "display_data"
    }
   ],
   "source": [
    "fig, ax = plt.subplots(1,1, figsize=(12,8))\n",
    "df.boxplot('Salary', 'Country', ax=ax)\n",
    "plt.title('Salary (In US$) vs Country')\n",
    "plt.xlabel('Country')\n",
    "plt.ylabel('Salary')\n",
    "plt.show()"
   ]
  },
  {
   "cell_type": "code",
   "execution_count": 20,
   "id": "8f2e37e0-143f-4d9e-b99d-522be6aaa68d",
   "metadata": {},
   "outputs": [],
   "source": [
    "df = df[df['Salary']<= 250000]\n",
    "df = df[df['Salary']>=10000]\n",
    "df = df[df['Country']!='Other']"
   ]
  },
  {
   "cell_type": "code",
   "execution_count": 21,
   "id": "edfbedbe-65cd-4d3b-8e6e-14f131a2633e",
   "metadata": {},
   "outputs": [
    {
     "data": {
      "image/png": "[encoded data removed]",
      "text/plain": [
       "<Figure size 1200x800 with 1 Axes>"
      ]
     },
     "metadata": {},
     "output_type": "display_data"
    }
   ],
   "source": [
    "fig, ax = plt.subplots(1,1, figsize=(12,8))\n",
    "df.boxplot('Salary', 'Country', ax=ax)\n",
    "plt.title('Salary (In US$) vs Country')\n",
    "plt.xlabel('Country')\n",
    "plt.ylabel('Salary')\n",
    "plt.xticks(rotation=15)\n",
    "plt.show()"
   ]
  },
  {
   "cell_type": "code",
   "execution_count": 22,
   "id": "b1730574-1c92-41e3-af8f-f8ff8adab902",
   "metadata": {},
   "outputs": [
    {
     "data": {
      "text/plain": [
       "YearsCodePro\n",
       "3                   1012\n",
       "5                    960\n",
       "2                    879\n",
       "4                    852\n",
       "10                   847\n",
       "6                    834\n",
       "8                    804\n",
       "7                    725\n",
       "12                   539\n",
       "9                    467\n",
       "15                   418\n",
       "1                    407\n",
       "20                   367\n",
       "11                   366\n",
       "13                   308\n",
       "14                   288\n",
       "16                   260\n",
       "25                   256\n",
       "Less than 1 year     256\n",
       "17                   235\n",
       "18                   221\n",
       "23                   143\n",
       "30                   143\n",
       "19                   142\n",
       "24                   142\n",
       "22                   125\n",
       "26                   115\n",
       "28                   106\n",
       "21                   104\n",
       "27                    90\n",
       "35                    57\n",
       "32                    53\n",
       "29                    51\n",
       "34                    43\n",
       "40                    43\n",
       "38                    38\n",
       "33                    32\n",
       "31                    30\n",
       "36                    25\n",
       "37                    24\n",
       "39                    18\n",
       "45                    17\n",
       "42                    12\n",
       "43                    10\n",
       "41                    10\n",
       "44                     6\n",
       "46                     4\n",
       "50                     3\n",
       "48                     2\n",
       "49                     1\n",
       "47                     1\n",
       "Name: count, dtype: int64"
      ]
     },
     "execution_count": 22,
     "metadata": {},
     "output_type": "execute_result"
    }
   ],
   "source": [
    "df['YearsCodePro'].value_counts()"
   ]
  },
  {
   "cell_type": "code",
   "execution_count": 23,
   "id": "02504f86-83a3-485d-bb3d-cf60dfddcd2d",
   "metadata": {},
   "outputs": [
    {
     "name": "stderr",
     "output_type": "stream",
     "text": [
      "C:\\Users\\rania\\AppData\\Local\\Temp\\ipykernel_33800\\1065251996.py:1: FutureWarning: A value is trying to be set on a copy of a DataFrame or Series through chained assignment using an inplace method.\n",
      "The behavior will change in pandas 3.0. This inplace method will never work because the intermediate object on which we are setting values always behaves as a copy.\n",
      "\n",
      "For example, when doing 'df[col].method(value, inplace=True)', try using 'df.method({col: value}, inplace=True)' or df[col] = df[col].method(value) instead, to perform the operation inplace on the original object.\n",
      "\n",
      "\n",
      "  df['YearsCodePro'].replace('Less than 1 year', 0.5, inplace=True)\n"
     ]
    }
   ],
   "source": [
    "df['YearsCodePro'].replace('Less than 1 year', 0.5, inplace=True)"
   ]
  },
  {
   "cell_type": "code",
   "execution_count": 24,
   "id": "ac3135ae-2f14-4658-bf45-72d17d8a2378",
   "metadata": {},
   "outputs": [
    {
     "data": {
      "text/plain": [
       "YearsCodePro\n",
       "3      1012\n",
       "5       960\n",
       "2       879\n",
       "4       852\n",
       "10      847\n",
       "6       834\n",
       "8       804\n",
       "7       725\n",
       "12      539\n",
       "9       467\n",
       "15      418\n",
       "1       407\n",
       "20      367\n",
       "11      366\n",
       "13      308\n",
       "14      288\n",
       "16      260\n",
       "25      256\n",
       "0.5     256\n",
       "17      235\n",
       "18      221\n",
       "23      143\n",
       "30      143\n",
       "19      142\n",
       "24      142\n",
       "22      125\n",
       "26      115\n",
       "28      106\n",
       "21      104\n",
       "27       90\n",
       "35       57\n",
       "32       53\n",
       "29       51\n",
       "34       43\n",
       "40       43\n",
       "38       38\n",
       "33       32\n",
       "31       30\n",
       "36       25\n",
       "37       24\n",
       "39       18\n",
       "45       17\n",
       "42       12\n",
       "43       10\n",
       "41       10\n",
       "44        6\n",
       "46        4\n",
       "50        3\n",
       "48        2\n",
       "49        1\n",
       "47        1\n",
       "Name: count, dtype: int64"
      ]
     },
     "execution_count": 24,
     "metadata": {},
     "output_type": "execute_result"
    }
   ],
   "source": [
    "df['YearsCodePro'].value_counts()"
   ]
  },
  {
   "cell_type": "code",
   "execution_count": 25,
   "id": "47cc7ca4-2753-45f2-b454-5e6176f5ae6d",
   "metadata": {},
   "outputs": [
    {
     "data": {
      "text/plain": [
       "EdLevel\n",
       "Bachelor’s degree (B.A., B.S., B.Eng., etc.)                                          5748\n",
       "Master’s degree (M.A., M.S., M.Eng., MBA, etc.)                                       3873\n",
       "Some college/university study without earning a degree                                1422\n",
       "Professional degree (JD, MD, Ph.D, Ed.D, etc.)                                         702\n",
       "Secondary school (e.g. American high school, German Realschule or Gymnasium, etc.)     539\n",
       "Associate degree (A.A., A.S., etc.)                                                    450\n",
       "Something else                                                                         107\n",
       "Primary/elementary school                                                               50\n",
       "Name: count, dtype: int64"
      ]
     },
     "execution_count": 25,
     "metadata": {},
     "output_type": "execute_result"
    }
   ],
   "source": [
    "df['EdLevel'].value_counts()"
   ]
  },
  {
   "cell_type": "code",
   "execution_count": 26,
   "id": "46f80c5a-09df-4a9b-a700-62b0b786660c",
   "metadata": {},
   "outputs": [],
   "source": [
    "def clean_ed_level(ed_level):\n",
    "    ed_level = ed_level.strip() \n",
    "    if \"Bachelor\" in ed_level:\n",
    "        return \"Bachelor's degree\"\n",
    "    elif \"Master\" in ed_level:\n",
    "        return \"Master's degree\"\n",
    "    elif \"Professional\" in ed_level:\n",
    "        return \"Professional degree\"\n",
    "    elif \"Associate\" in ed_level:\n",
    "        return \"Associate degree\"\n",
    "    else:\n",
    "        return \"Less than Bachelors\"\n",
    "\n",
    "df['EdLevel'] = df['EdLevel'].apply(clean_ed_level)\n"
   ]
  },
  {
   "cell_type": "code",
   "execution_count": 27,
   "id": "1453a7a0-74d1-46af-9b4f-214e5d002af5",
   "metadata": {},
   "outputs": [
    {
     "data": {
      "text/plain": [
       "EdLevel\n",
       "Bachelor's degree      5748\n",
       "Master's degree        3873\n",
       "Less than Bachelors    2118\n",
       "Professional degree     702\n",
       "Associate degree        450\n",
       "Name: count, dtype: int64"
      ]
     },
     "execution_count": 27,
     "metadata": {},
     "output_type": "execute_result"
    }
   ],
   "source": [
    "df['EdLevel'].value_counts()"
   ]
  },
  {
   "cell_type": "code",
   "execution_count": 79,
   "id": "82dd0e5e-f1ad-4b95-a1ae-c3941d299b71",
   "metadata": {},
   "outputs": [
    {
     "data": {
      "text/plain": [
       "array([2, 4, 3, 1, 0])"
      ]
     },
     "execution_count": 79,
     "metadata": {},
     "output_type": "execute_result"
    }
   ],
   "source": [
    "#Transforming the Categorical Columns using Label Encoder\n",
    "\n",
    "from sklearn.preprocessing import LabelEncoder\n",
    "le_education = LabelEncoder()\n",
    "df['EdLevel'] = le_education.fit_transform(df['EdLevel'])\n",
    "df['EdLevel'].unique()"
   ]
  },
  {
   "cell_type": "code",
   "execution_count": 80,
   "id": "cabe1fbb-5e0c-49b2-82eb-c2b30a128a18",
   "metadata": {},
   "outputs": [
    {
     "data": {
      "text/plain": [
       "array([13, 12,  3,  1,  4, 11,  2,  6,  5,  9,  7, 10,  8,  0])"
      ]
     },
     "execution_count": 80,
     "metadata": {},
     "output_type": "execute_result"
    }
   ],
   "source": [
    "le_country = LabelEncoder()\n",
    "df['Country'] = le_country.fit_transform(df['Country'])\n",
    "df['Country'].unique()"
   ]
  },
  {
   "cell_type": "code",
   "execution_count": 30,
   "id": "496c0eea-d879-4979-bed3-4646809a209b",
   "metadata": {},
   "outputs": [
    {
     "data": {
      "text/html": [
       "<div>\n",
       "<style scoped>\n",
       "    .dataframe tbody tr th:only-of-type {\n",
       "        vertical-align: middle;\n",
       "    }\n",
       "\n",
       "    .dataframe tbody tr th {\n",
       "        vertical-align: top;\n",
       "    }\n",
       "\n",
       "    .dataframe thead th {\n",
       "        text-align: right;\n",
       "    }\n",
       "</style>\n",
       "<table border=\"1\" class=\"dataframe\">\n",
       "  <thead>\n",
       "    <tr style=\"text-align: right;\">\n",
       "      <th></th>\n",
       "      <th>Country</th>\n",
       "      <th>EdLevel</th>\n",
       "      <th>YearsCodePro</th>\n",
       "      <th>Employment</th>\n",
       "      <th>Salary</th>\n",
       "    </tr>\n",
       "  </thead>\n",
       "  <tbody>\n",
       "    <tr>\n",
       "      <th>389</th>\n",
       "      <td>13</td>\n",
       "      <td>2</td>\n",
       "      <td>7</td>\n",
       "      <td>Employed, full-time;Student, part-time</td>\n",
       "      <td>110000.0</td>\n",
       "    </tr>\n",
       "    <tr>\n",
       "      <th>392</th>\n",
       "      <td>12</td>\n",
       "      <td>4</td>\n",
       "      <td>18</td>\n",
       "      <td>Employed, full-time</td>\n",
       "      <td>161044.0</td>\n",
       "    </tr>\n",
       "    <tr>\n",
       "      <th>395</th>\n",
       "      <td>12</td>\n",
       "      <td>3</td>\n",
       "      <td>25</td>\n",
       "      <td>Employed, full-time</td>\n",
       "      <td>121018.0</td>\n",
       "    </tr>\n",
       "    <tr>\n",
       "      <th>398</th>\n",
       "      <td>13</td>\n",
       "      <td>2</td>\n",
       "      <td>30</td>\n",
       "      <td>Employed, full-time</td>\n",
       "      <td>195000.0</td>\n",
       "    </tr>\n",
       "    <tr>\n",
       "      <th>409</th>\n",
       "      <td>3</td>\n",
       "      <td>4</td>\n",
       "      <td>50</td>\n",
       "      <td>Employed, full-time</td>\n",
       "      <td>57999.0</td>\n",
       "    </tr>\n",
       "  </tbody>\n",
       "</table>\n",
       "</div>"
      ],
      "text/plain": [
       "     Country  EdLevel YearsCodePro                              Employment  \\\n",
       "389       13        2            7  Employed, full-time;Student, part-time   \n",
       "392       12        4           18                     Employed, full-time   \n",
       "395       12        3           25                     Employed, full-time   \n",
       "398       13        2           30                     Employed, full-time   \n",
       "409        3        4           50                     Employed, full-time   \n",
       "\n",
       "       Salary  \n",
       "389  110000.0  \n",
       "392  161044.0  \n",
       "395  121018.0  \n",
       "398  195000.0  \n",
       "409   57999.0  "
      ]
     },
     "execution_count": 30,
     "metadata": {},
     "output_type": "execute_result"
    }
   ],
   "source": [
    "df.head()"
   ]
  },
  {
   "cell_type": "code",
   "execution_count": 31,
   "id": "786e0627-69ae-4827-bf8e-35bba88569ec",
   "metadata": {},
   "outputs": [
    {
     "data": {
      "text/html": [
       "<div>\n",
       "<style scoped>\n",
       "    .dataframe tbody tr th:only-of-type {\n",
       "        vertical-align: middle;\n",
       "    }\n",
       "\n",
       "    .dataframe tbody tr th {\n",
       "        vertical-align: top;\n",
       "    }\n",
       "\n",
       "    .dataframe thead th {\n",
       "        text-align: right;\n",
       "    }\n",
       "</style>\n",
       "<table border=\"1\" class=\"dataframe\">\n",
       "  <thead>\n",
       "    <tr style=\"text-align: right;\">\n",
       "      <th></th>\n",
       "      <th>Country</th>\n",
       "      <th>EdLevel</th>\n",
       "      <th>YearsCodePro</th>\n",
       "    </tr>\n",
       "  </thead>\n",
       "  <tbody>\n",
       "    <tr>\n",
       "      <th>389</th>\n",
       "      <td>13</td>\n",
       "      <td>2</td>\n",
       "      <td>7</td>\n",
       "    </tr>\n",
       "    <tr>\n",
       "      <th>392</th>\n",
       "      <td>12</td>\n",
       "      <td>4</td>\n",
       "      <td>18</td>\n",
       "    </tr>\n",
       "    <tr>\n",
       "      <th>395</th>\n",
       "      <td>12</td>\n",
       "      <td>3</td>\n",
       "      <td>25</td>\n",
       "    </tr>\n",
       "    <tr>\n",
       "      <th>398</th>\n",
       "      <td>13</td>\n",
       "      <td>2</td>\n",
       "      <td>30</td>\n",
       "    </tr>\n",
       "    <tr>\n",
       "      <th>409</th>\n",
       "      <td>3</td>\n",
       "      <td>4</td>\n",
       "      <td>50</td>\n",
       "    </tr>\n",
       "    <tr>\n",
       "      <th>...</th>\n",
       "      <td>...</td>\n",
       "      <td>...</td>\n",
       "      <td>...</td>\n",
       "    </tr>\n",
       "    <tr>\n",
       "      <th>41167</th>\n",
       "      <td>13</td>\n",
       "      <td>0</td>\n",
       "      <td>25</td>\n",
       "    </tr>\n",
       "    <tr>\n",
       "      <th>41179</th>\n",
       "      <td>11</td>\n",
       "      <td>2</td>\n",
       "      <td>6</td>\n",
       "    </tr>\n",
       "    <tr>\n",
       "      <th>41180</th>\n",
       "      <td>10</td>\n",
       "      <td>3</td>\n",
       "      <td>3</td>\n",
       "    </tr>\n",
       "    <tr>\n",
       "      <th>41184</th>\n",
       "      <td>13</td>\n",
       "      <td>3</td>\n",
       "      <td>30</td>\n",
       "    </tr>\n",
       "    <tr>\n",
       "      <th>41185</th>\n",
       "      <td>13</td>\n",
       "      <td>1</td>\n",
       "      <td>15</td>\n",
       "    </tr>\n",
       "  </tbody>\n",
       "</table>\n",
       "<p>12891 rows × 3 columns</p>\n",
       "</div>"
      ],
      "text/plain": [
       "       Country  EdLevel YearsCodePro\n",
       "389         13        2            7\n",
       "392         12        4           18\n",
       "395         12        3           25\n",
       "398         13        2           30\n",
       "409          3        4           50\n",
       "...        ...      ...          ...\n",
       "41167       13        0           25\n",
       "41179       11        2            6\n",
       "41180       10        3            3\n",
       "41184       13        3           30\n",
       "41185       13        1           15\n",
       "\n",
       "[12891 rows x 3 columns]"
      ]
     },
     "execution_count": 31,
     "metadata": {},
     "output_type": "execute_result"
    }
   ],
   "source": [
    "x=df.drop(columns=['Salary', 'Employment'], axis=1)\n",
    "x"
   ]
  },
  {
   "cell_type": "code",
   "execution_count": 32,
   "id": "16f69183-5493-450b-9294-3b9ccaa99b8f",
   "metadata": {},
   "outputs": [
    {
     "data": {
      "text/plain": [
       "389      110000.0\n",
       "392      161044.0\n",
       "395      121018.0\n",
       "398      195000.0\n",
       "409       57999.0\n",
       "           ...   \n",
       "41167    100000.0\n",
       "41179     15600.0\n",
       "41180     44640.0\n",
       "41184    170000.0\n",
       "41185    116844.0\n",
       "Name: Salary, Length: 12891, dtype: float64"
      ]
     },
     "execution_count": 32,
     "metadata": {},
     "output_type": "execute_result"
    }
   ],
   "source": [
    "y = df['Salary']\n",
    "y"
   ]
  },
  {
   "cell_type": "code",
   "execution_count": 57,
   "id": "c68aa8d3-a9f6-489b-8ede-f7fdd02670f8",
   "metadata": {},
   "outputs": [],
   "source": [
    "# Training the model\n",
    "from sklearn.model_selection import train_test_split\n",
    "\n",
    "X_train, X_test, Y_train, Y_test = train_test_split(x, y, test_size=0.2, random_state=42)"
   ]
  },
  {
   "cell_type": "code",
   "execution_count": 58,
   "id": "e5c334f5-50c5-4777-a7b4-356ee86b7d78",
   "metadata": {},
   "outputs": [
    {
     "data": {
      "text/html": [
       "<div>\n",
       "<style scoped>\n",
       "    .dataframe tbody tr th:only-of-type {\n",
       "        vertical-align: middle;\n",
       "    }\n",
       "\n",
       "    .dataframe tbody tr th {\n",
       "        vertical-align: top;\n",
       "    }\n",
       "\n",
       "    .dataframe thead th {\n",
       "        text-align: right;\n",
       "    }\n",
       "</style>\n",
       "<table border=\"1\" class=\"dataframe\">\n",
       "  <thead>\n",
       "    <tr style=\"text-align: right;\">\n",
       "      <th></th>\n",
       "      <th>Country</th>\n",
       "      <th>EdLevel</th>\n",
       "      <th>YearsCodePro</th>\n",
       "    </tr>\n",
       "  </thead>\n",
       "  <tbody>\n",
       "    <tr>\n",
       "      <th>28085</th>\n",
       "      <td>1</td>\n",
       "      <td>2</td>\n",
       "      <td>4</td>\n",
       "    </tr>\n",
       "    <tr>\n",
       "      <th>3003</th>\n",
       "      <td>0</td>\n",
       "      <td>1</td>\n",
       "      <td>4</td>\n",
       "    </tr>\n",
       "    <tr>\n",
       "      <th>5084</th>\n",
       "      <td>4</td>\n",
       "      <td>3</td>\n",
       "      <td>13</td>\n",
       "    </tr>\n",
       "    <tr>\n",
       "      <th>11627</th>\n",
       "      <td>13</td>\n",
       "      <td>2</td>\n",
       "      <td>20</td>\n",
       "    </tr>\n",
       "    <tr>\n",
       "      <th>15997</th>\n",
       "      <td>2</td>\n",
       "      <td>2</td>\n",
       "      <td>15</td>\n",
       "    </tr>\n",
       "    <tr>\n",
       "      <th>...</th>\n",
       "      <td>...</td>\n",
       "      <td>...</td>\n",
       "      <td>...</td>\n",
       "    </tr>\n",
       "    <tr>\n",
       "      <th>38232</th>\n",
       "      <td>12</td>\n",
       "      <td>1</td>\n",
       "      <td>2</td>\n",
       "    </tr>\n",
       "    <tr>\n",
       "      <th>16950</th>\n",
       "      <td>11</td>\n",
       "      <td>3</td>\n",
       "      <td>21</td>\n",
       "    </tr>\n",
       "    <tr>\n",
       "      <th>17601</th>\n",
       "      <td>11</td>\n",
       "      <td>2</td>\n",
       "      <td>17</td>\n",
       "    </tr>\n",
       "    <tr>\n",
       "      <th>3059</th>\n",
       "      <td>10</td>\n",
       "      <td>2</td>\n",
       "      <td>26</td>\n",
       "    </tr>\n",
       "    <tr>\n",
       "      <th>22690</th>\n",
       "      <td>13</td>\n",
       "      <td>3</td>\n",
       "      <td>24</td>\n",
       "    </tr>\n",
       "  </tbody>\n",
       "</table>\n",
       "<p>10312 rows × 3 columns</p>\n",
       "</div>"
      ],
      "text/plain": [
       "       Country  EdLevel YearsCodePro\n",
       "28085        1        2            4\n",
       "3003         0        1            4\n",
       "5084         4        3           13\n",
       "11627       13        2           20\n",
       "15997        2        2           15\n",
       "...        ...      ...          ...\n",
       "38232       12        1            2\n",
       "16950       11        3           21\n",
       "17601       11        2           17\n",
       "3059        10        2           26\n",
       "22690       13        3           24\n",
       "\n",
       "[10312 rows x 3 columns]"
      ]
     },
     "execution_count": 58,
     "metadata": {},
     "output_type": "execute_result"
    }
   ],
   "source": [
    "X_train"
   ]
  },
  {
   "cell_type": "code",
   "execution_count": 59,
   "id": "8c75edbb-71df-4053-b9c2-25814d9b8b83",
   "metadata": {},
   "outputs": [
    {
     "data": {
      "text/html": [
       "<div>\n",
       "<style scoped>\n",
       "    .dataframe tbody tr th:only-of-type {\n",
       "        vertical-align: middle;\n",
       "    }\n",
       "\n",
       "    .dataframe tbody tr th {\n",
       "        vertical-align: top;\n",
       "    }\n",
       "\n",
       "    .dataframe thead th {\n",
       "        text-align: right;\n",
       "    }\n",
       "</style>\n",
       "<table border=\"1\" class=\"dataframe\">\n",
       "  <thead>\n",
       "    <tr style=\"text-align: right;\">\n",
       "      <th></th>\n",
       "      <th>Country</th>\n",
       "      <th>EdLevel</th>\n",
       "      <th>YearsCodePro</th>\n",
       "    </tr>\n",
       "  </thead>\n",
       "  <tbody>\n",
       "    <tr>\n",
       "      <th>23175</th>\n",
       "      <td>4</td>\n",
       "      <td>2</td>\n",
       "      <td>6</td>\n",
       "    </tr>\n",
       "    <tr>\n",
       "      <th>6287</th>\n",
       "      <td>9</td>\n",
       "      <td>2</td>\n",
       "      <td>3</td>\n",
       "    </tr>\n",
       "    <tr>\n",
       "      <th>424</th>\n",
       "      <td>4</td>\n",
       "      <td>3</td>\n",
       "      <td>30</td>\n",
       "    </tr>\n",
       "    <tr>\n",
       "      <th>22448</th>\n",
       "      <td>13</td>\n",
       "      <td>1</td>\n",
       "      <td>13</td>\n",
       "    </tr>\n",
       "    <tr>\n",
       "      <th>23126</th>\n",
       "      <td>11</td>\n",
       "      <td>3</td>\n",
       "      <td>12</td>\n",
       "    </tr>\n",
       "    <tr>\n",
       "      <th>...</th>\n",
       "      <td>...</td>\n",
       "      <td>...</td>\n",
       "      <td>...</td>\n",
       "    </tr>\n",
       "    <tr>\n",
       "      <th>3998</th>\n",
       "      <td>12</td>\n",
       "      <td>2</td>\n",
       "      <td>8</td>\n",
       "    </tr>\n",
       "    <tr>\n",
       "      <th>27878</th>\n",
       "      <td>5</td>\n",
       "      <td>1</td>\n",
       "      <td>3</td>\n",
       "    </tr>\n",
       "    <tr>\n",
       "      <th>27621</th>\n",
       "      <td>3</td>\n",
       "      <td>3</td>\n",
       "      <td>3</td>\n",
       "    </tr>\n",
       "    <tr>\n",
       "      <th>32632</th>\n",
       "      <td>11</td>\n",
       "      <td>3</td>\n",
       "      <td>2</td>\n",
       "    </tr>\n",
       "    <tr>\n",
       "      <th>31491</th>\n",
       "      <td>4</td>\n",
       "      <td>1</td>\n",
       "      <td>5</td>\n",
       "    </tr>\n",
       "  </tbody>\n",
       "</table>\n",
       "<p>2579 rows × 3 columns</p>\n",
       "</div>"
      ],
      "text/plain": [
       "       Country  EdLevel YearsCodePro\n",
       "23175        4        2            6\n",
       "6287         9        2            3\n",
       "424          4        3           30\n",
       "22448       13        1           13\n",
       "23126       11        3           12\n",
       "...        ...      ...          ...\n",
       "3998        12        2            8\n",
       "27878        5        1            3\n",
       "27621        3        3            3\n",
       "32632       11        3            2\n",
       "31491        4        1            5\n",
       "\n",
       "[2579 rows x 3 columns]"
      ]
     },
     "execution_count": 59,
     "metadata": {},
     "output_type": "execute_result"
    }
   ],
   "source": [
    "X_test"
   ]
  },
  {
   "cell_type": "code",
   "execution_count": 60,
   "id": "3924621d-ef5a-4334-aa5e-67c5a08de8b8",
   "metadata": {},
   "outputs": [
    {
     "data": {
      "text/html": [
       "<style>#sk-container-id-3 {\n",
       "  /* Definition of color scheme common for light and dark mode */\n",
       "  --sklearn-color-text: black;\n",
       "  --sklearn-color-line: gray;\n",
       "  /* Definition of color scheme for unfitted estimators */\n",
       "  --sklearn-color-unfitted-level-0: #fff5e6;\n",
       "  --sklearn-color-unfitted-level-1: #f6e4d2;\n",
       "  --sklearn-color-unfitted-level-2: #ffe0b3;\n",
       "  --sklearn-color-unfitted-level-3: chocolate;\n",
       "  /* Definition of color scheme for fitted estimators */\n",
       "  --sklearn-color-fitted-level-0: #f0f8ff;\n",
       "  --sklearn-color-fitted-level-1: #d4ebff;\n",
       "  --sklearn-color-fitted-level-2: #b3dbfd;\n",
       "  --sklearn-color-fitted-level-3: cornflowerblue;\n",
       "\n",
       "  /* Specific color for light theme */\n",
       "  --sklearn-color-text-on-default-background: var(--sg-text-color, var(--theme-code-foreground, var(--jp-content-font-color1, black)));\n",
       "  --sklearn-color-background: var(--sg-background-color, var(--theme-background, var(--jp-layout-color0, white)));\n",
       "  --sklearn-color-border-box: var(--sg-text-color, var(--theme-code-foreground, var(--jp-content-font-color1, black)));\n",
       "  --sklearn-color-icon: #696969;\n",
       "\n",
       "  @media (prefers-color-scheme: dark) {\n",
       "    /* Redefinition of color scheme for dark theme */\n",
       "    --sklearn-color-text-on-default-background: var(--sg-text-color, var(--theme-code-foreground, var(--jp-content-font-color1, white)));\n",
       "    --sklearn-color-background: var(--sg-background-color, var(--theme-background, var(--jp-layout-color0, #111)));\n",
       "    --sklearn-color-border-box: var(--sg-text-color, var(--theme-code-foreground, var(--jp-content-font-color1, white)));\n",
       "    --sklearn-color-icon: #878787;\n",
       "  }\n",
       "}\n",
       "\n",
       "#sk-container-id-3 {\n",
       "  color: var(--sklearn-color-text);\n",
       "}\n",
       "\n",
       "#sk-container-id-3 pre {\n",
       "  padding: 0;\n",
       "}\n",
       "\n",
       "#sk-container-id-3 input.sk-hidden--visually {\n",
       "  border: 0;\n",
       "  clip: rect(1px 1px 1px 1px);\n",
       "  clip: rect(1px, 1px, 1px, 1px);\n",
       "  height: 1px;\n",
       "  margin: -1px;\n",
       "  overflow: hidden;\n",
       "  padding: 0;\n",
       "  position: absolute;\n",
       "  width: 1px;\n",
       "}\n",
       "\n",
       "#sk-container-id-3 div.sk-dashed-wrapped {\n",
       "  border: 1px dashed var(--sklearn-color-line);\n",
       "  margin: 0 0.4em 0.5em 0.4em;\n",
       "  box-sizing: border-box;\n",
       "  padding-bottom: 0.4em;\n",
       "  background-color: var(--sklearn-color-background);\n",
       "}\n",
       "\n",
       "#sk-container-id-3 div.sk-container {\n",
       "  /* jupyter's `normalize.less` sets `[hidden] { display: none; }`\n",
       "     but bootstrap.min.css set `[hidden] { display: none !important; }`\n",
       "     so we also need the `!important` here to be able to override the\n",
       "     default hidden behavior on the sphinx rendered scikit-learn.org.\n",
       "     See: https://github.com/scikit-learn/scikit-learn/issues/21755 */\n",
       "  display: inline-block !important;\n",
       "  position: relative;\n",
       "}\n",
       "\n",
       "#sk-container-id-3 div.sk-text-repr-fallback {\n",
       "  display: none;\n",
       "}\n",
       "\n",
       "div.sk-parallel-item,\n",
       "div.sk-serial,\n",
       "div.sk-item {\n",
       "  /* draw centered vertical line to link estimators */\n",
       "  background-image: linear-gradient(var(--sklearn-color-text-on-default-background), var(--sklearn-color-text-on-default-background));\n",
       "  background-size: 2px 100%;\n",
       "  background-repeat: no-repeat;\n",
       "  background-position: center center;\n",
       "}\n",
       "\n",
       "/* Parallel-specific style estimator block */\n",
       "\n",
       "#sk-container-id-3 div.sk-parallel-item::after {\n",
       "  content: \"\";\n",
       "  width: 100%;\n",
       "  border-bottom: 2px solid var(--sklearn-color-text-on-default-background);\n",
       "  flex-grow: 1;\n",
       "}\n",
       "\n",
       "#sk-container-id-3 div.sk-parallel {\n",
       "  display: flex;\n",
       "  align-items: stretch;\n",
       "  justify-content: center;\n",
       "  background-color: var(--sklearn-color-background);\n",
       "  position: relative;\n",
       "}\n",
       "\n",
       "#sk-container-id-3 div.sk-parallel-item {\n",
       "  display: flex;\n",
       "  flex-direction: column;\n",
       "}\n",
       "\n",
       "#sk-container-id-3 div.sk-parallel-item:first-child::after {\n",
       "  align-self: flex-end;\n",
       "  width: 50%;\n",
       "}\n",
       "\n",
       "#sk-container-id-3 div.sk-parallel-item:last-child::after {\n",
       "  align-self: flex-start;\n",
       "  width: 50%;\n",
       "}\n",
       "\n",
       "#sk-container-id-3 div.sk-parallel-item:only-child::after {\n",
       "  width: 0;\n",
       "}\n",
       "\n",
       "/* Serial-specific style estimator block */\n",
       "\n",
       "#sk-container-id-3 div.sk-serial {\n",
       "  display: flex;\n",
       "  flex-direction: column;\n",
       "  align-items: center;\n",
       "  background-color: var(--sklearn-color-background);\n",
       "  padding-right: 1em;\n",
       "  padding-left: 1em;\n",
       "}\n",
       "\n",
       "\n",
       "/* Toggleable style: style used for estimator/Pipeline/ColumnTransformer box that is\n",
       "clickable and can be expanded/collapsed.\n",
       "- Pipeline and ColumnTransformer use this feature and define the default style\n",
       "- Estimators will overwrite some part of the style using the `sk-estimator` class\n",
       "*/\n",
       "\n",
       "/* Pipeline and ColumnTransformer style (default) */\n",
       "\n",
       "#sk-container-id-3 div.sk-toggleable {\n",
       "  /* Default theme specific background. It is overwritten whether we have a\n",
       "  specific estimator or a Pipeline/ColumnTransformer */\n",
       "  background-color: var(--sklearn-color-background);\n",
       "}\n",
       "\n",
       "/* Toggleable label */\n",
       "#sk-container-id-3 label.sk-toggleable__label {\n",
       "  cursor: pointer;\n",
       "  display: block;\n",
       "  width: 100%;\n",
       "  margin-bottom: 0;\n",
       "  padding: 0.5em;\n",
       "  box-sizing: border-box;\n",
       "  text-align: center;\n",
       "}\n",
       "\n",
       "#sk-container-id-3 label.sk-toggleable__label-arrow:before {\n",
       "  /* Arrow on the left of the label */\n",
       "  content: \"▸\";\n",
       "  float: left;\n",
       "  margin-right: 0.25em;\n",
       "  color: var(--sklearn-color-icon);\n",
       "}\n",
       "\n",
       "#sk-container-id-3 label.sk-toggleable__label-arrow:hover:before {\n",
       "  color: var(--sklearn-color-text);\n",
       "}\n",
       "\n",
       "/* Toggleable content - dropdown */\n",
       "\n",
       "#sk-container-id-3 div.sk-toggleable__content {\n",
       "  max-height: 0;\n",
       "  max-width: 0;\n",
       "  overflow: hidden;\n",
       "  text-align: left;\n",
       "  /* unfitted */\n",
       "  background-color: var(--sklearn-color-unfitted-level-0);\n",
       "}\n",
       "\n",
       "#sk-container-id-3 div.sk-toggleable__content.fitted {\n",
       "  /* fitted */\n",
       "  background-color: var(--sklearn-color-fitted-level-0);\n",
       "}\n",
       "\n",
       "#sk-container-id-3 div.sk-toggleable__content pre {\n",
       "  margin: 0.2em;\n",
       "  border-radius: 0.25em;\n",
       "  color: var(--sklearn-color-text);\n",
       "  /* unfitted */\n",
       "  background-color: var(--sklearn-color-unfitted-level-0);\n",
       "}\n",
       "\n",
       "#sk-container-id-3 div.sk-toggleable__content.fitted pre {\n",
       "  /* unfitted */\n",
       "  background-color: var(--sklearn-color-fitted-level-0);\n",
       "}\n",
       "\n",
       "#sk-container-id-3 input.sk-toggleable__control:checked~div.sk-toggleable__content {\n",
       "  /* Expand drop-down */\n",
       "  max-height: 200px;\n",
       "  max-width: 100%;\n",
       "  overflow: auto;\n",
       "}\n",
       "\n",
       "#sk-container-id-3 input.sk-toggleable__control:checked~label.sk-toggleable__label-arrow:before {\n",
       "  content: \"▾\";\n",
       "}\n",
       "\n",
       "/* Pipeline/ColumnTransformer-specific style */\n",
       "\n",
       "#sk-container-id-3 div.sk-label input.sk-toggleable__control:checked~label.sk-toggleable__label {\n",
       "  color: var(--sklearn-color-text);\n",
       "  background-color: var(--sklearn-color-unfitted-level-2);\n",
       "}\n",
       "\n",
       "#sk-container-id-3 div.sk-label.fitted input.sk-toggleable__control:checked~label.sk-toggleable__label {\n",
       "  background-color: var(--sklearn-color-fitted-level-2);\n",
       "}\n",
       "\n",
       "/* Estimator-specific style */\n",
       "\n",
       "/* Colorize estimator box */\n",
       "#sk-container-id-3 div.sk-estimator input.sk-toggleable__control:checked~label.sk-toggleable__label {\n",
       "  /* unfitted */\n",
       "  background-color: var(--sklearn-color-unfitted-level-2);\n",
       "}\n",
       "\n",
       "#sk-container-id-3 div.sk-estimator.fitted input.sk-toggleable__control:checked~label.sk-toggleable__label {\n",
       "  /* fitted */\n",
       "  background-color: var(--sklearn-color-fitted-level-2);\n",
       "}\n",
       "\n",
       "#sk-container-id-3 div.sk-label label.sk-toggleable__label,\n",
       "#sk-container-id-3 div.sk-label label {\n",
       "  /* The background is the default theme color */\n",
       "  color: var(--sklearn-color-text-on-default-background);\n",
       "}\n",
       "\n",
       "/* On hover, darken the color of the background */\n",
       "#sk-container-id-3 div.sk-label:hover label.sk-toggleable__label {\n",
       "  color: var(--sklearn-color-text);\n",
       "  background-color: var(--sklearn-color-unfitted-level-2);\n",
       "}\n",
       "\n",
       "/* Label box, darken color on hover, fitted */\n",
       "#sk-container-id-3 div.sk-label.fitted:hover label.sk-toggleable__label.fitted {\n",
       "  color: var(--sklearn-color-text);\n",
       "  background-color: var(--sklearn-color-fitted-level-2);\n",
       "}\n",
       "\n",
       "/* Estimator label */\n",
       "\n",
       "#sk-container-id-3 div.sk-label label {\n",
       "  font-family: monospace;\n",
       "  font-weight: bold;\n",
       "  display: inline-block;\n",
       "  line-height: 1.2em;\n",
       "}\n",
       "\n",
       "#sk-container-id-3 div.sk-label-container {\n",
       "  text-align: center;\n",
       "}\n",
       "\n",
       "/* Estimator-specific */\n",
       "#sk-container-id-3 div.sk-estimator {\n",
       "  font-family: monospace;\n",
       "  border: 1px dotted var(--sklearn-color-border-box);\n",
       "  border-radius: 0.25em;\n",
       "  box-sizing: border-box;\n",
       "  margin-bottom: 0.5em;\n",
       "  /* unfitted */\n",
       "  background-color: var(--sklearn-color-unfitted-level-0);\n",
       "}\n",
       "\n",
       "#sk-container-id-3 div.sk-estimator.fitted {\n",
       "  /* fitted */\n",
       "  background-color: var(--sklearn-color-fitted-level-0);\n",
       "}\n",
       "\n",
       "/* on hover */\n",
       "#sk-container-id-3 div.sk-estimator:hover {\n",
       "  /* unfitted */\n",
       "  background-color: var(--sklearn-color-unfitted-level-2);\n",
       "}\n",
       "\n",
       "#sk-container-id-3 div.sk-estimator.fitted:hover {\n",
       "  /* fitted */\n",
       "  background-color: var(--sklearn-color-fitted-level-2);\n",
       "}\n",
       "\n",
       "/* Specification for estimator info (e.g. \"i\" and \"?\") */\n",
       "\n",
       "/* Common style for \"i\" and \"?\" */\n",
       "\n",
       ".sk-estimator-doc-link,\n",
       "a:link.sk-estimator-doc-link,\n",
       "a:visited.sk-estimator-doc-link {\n",
       "  float: right;\n",
       "  font-size: smaller;\n",
       "  line-height: 1em;\n",
       "  font-family: monospace;\n",
       "  background-color: var(--sklearn-color-background);\n",
       "  border-radius: 1em;\n",
       "  height: 1em;\n",
       "  width: 1em;\n",
       "  text-decoration: none !important;\n",
       "  margin-left: 1ex;\n",
       "  /* unfitted */\n",
       "  border: var(--sklearn-color-unfitted-level-1) 1pt solid;\n",
       "  color: var(--sklearn-color-unfitted-level-1);\n",
       "}\n",
       "\n",
       ".sk-estimator-doc-link.fitted,\n",
       "a:link.sk-estimator-doc-link.fitted,\n",
       "a:visited.sk-estimator-doc-link.fitted {\n",
       "  /* fitted */\n",
       "  border: var(--sklearn-color-fitted-level-1) 1pt solid;\n",
       "  color: var(--sklearn-color-fitted-level-1);\n",
       "}\n",
       "\n",
       "/* On hover */\n",
       "div.sk-estimator:hover .sk-estimator-doc-link:hover,\n",
       ".sk-estimator-doc-link:hover,\n",
       "div.sk-label-container:hover .sk-estimator-doc-link:hover,\n",
       ".sk-estimator-doc-link:hover {\n",
       "  /* unfitted */\n",
       "  background-color: var(--sklearn-color-unfitted-level-3);\n",
       "  color: var(--sklearn-color-background);\n",
       "  text-decoration: none;\n",
       "}\n",
       "\n",
       "div.sk-estimator.fitted:hover .sk-estimator-doc-link.fitted:hover,\n",
       ".sk-estimator-doc-link.fitted:hover,\n",
       "div.sk-label-container:hover .sk-estimator-doc-link.fitted:hover,\n",
       ".sk-estimator-doc-link.fitted:hover {\n",
       "  /* fitted */\n",
       "  background-color: var(--sklearn-color-fitted-level-3);\n",
       "  color: var(--sklearn-color-background);\n",
       "  text-decoration: none;\n",
       "}\n",
       "\n",
       "/* Span, style for the box shown on hovering the info icon */\n",
       ".sk-estimator-doc-link span {\n",
       "  display: none;\n",
       "  z-index: 9999;\n",
       "  position: relative;\n",
       "  font-weight: normal;\n",
       "  right: .2ex;\n",
       "  padding: .5ex;\n",
       "  margin: .5ex;\n",
       "  width: min-content;\n",
       "  min-width: 20ex;\n",
       "  max-width: 50ex;\n",
       "  color: var(--sklearn-color-text);\n",
       "  box-shadow: 2pt 2pt 4pt #999;\n",
       "  /* unfitted */\n",
       "  background: var(--sklearn-color-unfitted-level-0);\n",
       "  border: .5pt solid var(--sklearn-color-unfitted-level-3);\n",
       "}\n",
       "\n",
       ".sk-estimator-doc-link.fitted span {\n",
       "  /* fitted */\n",
       "  background: var(--sklearn-color-fitted-level-0);\n",
       "  border: var(--sklearn-color-fitted-level-3);\n",
       "}\n",
       "\n",
       ".sk-estimator-doc-link:hover span {\n",
       "  display: block;\n",
       "}\n",
       "\n",
       "/* \"?\"-specific style due to the `<a>` HTML tag */\n",
       "\n",
       "#sk-container-id-3 a.estimator_doc_link {\n",
       "  float: right;\n",
       "  font-size: 1rem;\n",
       "  line-height: 1em;\n",
       "  font-family: monospace;\n",
       "  background-color: var(--sklearn-color-background);\n",
       "  border-radius: 1rem;\n",
       "  height: 1rem;\n",
       "  width: 1rem;\n",
       "  text-decoration: none;\n",
       "  /* unfitted */\n",
       "  color: var(--sklearn-color-unfitted-level-1);\n",
       "  border: var(--sklearn-color-unfitted-level-1) 1pt solid;\n",
       "}\n",
       "\n",
       "#sk-container-id-3 a.estimator_doc_link.fitted {\n",
       "  /* fitted */\n",
       "  border: var(--sklearn-color-fitted-level-1) 1pt solid;\n",
       "  color: var(--sklearn-color-fitted-level-1);\n",
       "}\n",
       "\n",
       "/* On hover */\n",
       "#sk-container-id-3 a.estimator_doc_link:hover {\n",
       "  /* unfitted */\n",
       "  background-color: var(--sklearn-color-unfitted-level-3);\n",
       "  color: var(--sklearn-color-background);\n",
       "  text-decoration: none;\n",
       "}\n",
       "\n",
       "#sk-container-id-3 a.estimator_doc_link.fitted:hover {\n",
       "  /* fitted */\n",
       "  background-color: var(--sklearn-color-fitted-level-3);\n",
       "}\n",
       "</style><div id=\"sk-container-id-3\" class=\"sk-top-container\"><div class=\"sk-text-repr-fallback\"><pre>LinearRegression()</pre><b>In a Jupyter environment, please rerun this cell to show the HTML representation or trust the notebook. <br />On GitHub, the HTML representation is unable to render, please try loading this page with nbviewer.org.</b></div><div class=\"sk-container\" hidden><div class=\"sk-item\"><div class=\"sk-estimator fitted sk-toggleable\"><input class=\"sk-toggleable__control sk-hidden--visually\" id=\"sk-estimator-id-5\" type=\"checkbox\" checked><label for=\"sk-estimator-id-5\" class=\"sk-toggleable__label fitted sk-toggleable__label-arrow fitted\">&nbsp;&nbsp;LinearRegression<a class=\"sk-estimator-doc-link fitted\" rel=\"noreferrer\" target=\"_blank\" href=\"https://scikit-learn.org/1.5/modules/generated/sklearn.linear_model.LinearRegression.html\">?<span>Documentation for LinearRegression</span></a><span class=\"sk-estimator-doc-link fitted\">i<span>Fitted</span></span></label><div class=\"sk-toggleable__content fitted\"><pre>LinearRegression()</pre></div> </div></div></div></div>"
      ],
      "text/plain": [
       "LinearRegression()"
      ]
     },
     "execution_count": 60,
     "metadata": {},
     "output_type": "execute_result"
    }
   ],
   "source": [
    "from sklearn.linear_model import LinearRegression\n",
    "model = LinearRegression()\n",
    "model.fit(X_train, Y_train)"
   ]
  },
  {
   "cell_type": "code",
   "execution_count": 61,
   "id": "fb5d52af-c1f2-4c5a-a26f-bb48f2d04154",
   "metadata": {},
   "outputs": [
    {
     "name": "stdout",
     "output_type": "stream",
     "text": [
      "Mean Squared Error: 1958462788.6452901\n",
      "R^2 Score: 0.2967242721569434\n"
     ]
    }
   ],
   "source": [
    "from sklearn.metrics import mean_squared_error, r2_score\n",
    "\n",
    "Y_pred = model.predict(X_test)\n",
    "\n",
    "# Calculating metrics\n",
    "mse = mean_squared_error(Y_test, Y_pred)\n",
    "r2 = r2_score(Y_test, Y_pred)\n",
    "\n",
    "print(f'Mean Squared Error: {mse}')\n",
    "print(f'R^2 Score: {r2}')"
   ]
  },
  {
   "cell_type": "code",
   "execution_count": null,
   "id": "d47170fe-55f2-4ef1-a727-d8caaab48b92",
   "metadata": {},
   "outputs": [],
   "source": [
    "# The error is extremely high. Therefore, we will try another model"
   ]
  },
  {
   "cell_type": "code",
   "execution_count": 62,
   "id": "b08525b9-b529-4001-a2dc-2f08a86db320",
   "metadata": {},
   "outputs": [
    {
     "name": "stdout",
     "output_type": "stream",
     "text": [
      "Decision Tree Mean Squared Error: 1261279494.3230498\n",
      "Decision Tree R^2 Score: 0.5470798528691267\n"
     ]
    }
   ],
   "source": [
    "from sklearn.tree import DecisionTreeRegressor\n",
    "dt_model = DecisionTreeRegressor(random_state=42)\n",
    "dt_model.fit(X_train, Y_train)\n",
    "\n",
    "Y_pred = dt_model.predict(X_test)\n",
    "\n",
    "mse = mean_squared_error(Y_test, Y_pred)\n",
    "r2 = r2_score(Y_test, Y_pred)\n",
    "\n",
    "print(f'Decision Tree Mean Squared Error: {mse}')\n",
    "print(f'Decision Tree R^2 Score: {r2}')"
   ]
  },
  {
   "cell_type": "code",
   "execution_count": 42,
   "id": "1bf7dd94-dfa3-4262-bb28-78e443bb22f4",
   "metadata": {},
   "outputs": [
    {
     "name": "stdout",
     "output_type": "stream",
     "text": [
      "$1,261,279,494.32\n"
     ]
    }
   ],
   "source": [
    "print(\"${:,.02f}\".format(mse))"
   ]
  },
  {
   "cell_type": "code",
   "execution_count": 63,
   "id": "92f328ad-9a92-410e-970f-9bcd91512024",
   "metadata": {},
   "outputs": [
    {
     "name": "stdout",
     "output_type": "stream",
     "text": [
      "Random Forest Mean Squared Error: 1200586037.1475782\n",
      "Random Forest R^2 Score: 0.5688746173741581\n"
     ]
    }
   ],
   "source": [
    "from sklearn.ensemble import RandomForestRegressor\n",
    "rf_model = RandomForestRegressor(n_estimators=100, random_state=42)\n",
    "rf_model.fit(X_train, Y_train)\n",
    "\n",
    "Y_pred = rf_model.predict(X_test)\n",
    "\n",
    "mse = mean_squared_error(Y_test, Y_pred)\n",
    "r2 = r2_score(Y_test, Y_pred)\n",
    "\n",
    "print(f'Random Forest Mean Squared Error: {mse}')\n",
    "print(f'Random Forest R^2 Score: {r2}')"
   ]
  },
  {
   "cell_type": "code",
   "execution_count": null,
   "id": "aee181e6-ecf7-4dbb-ac04-63523c21f1f7",
   "metadata": {},
   "outputs": [],
   "source": [
    "df['YearsCodePro'].value_counts()"
   ]
  },
  {
   "cell_type": "code",
   "execution_count": 64,
   "id": "78943273-7c33-4e5f-9515-06ef43b6c208",
   "metadata": {},
   "outputs": [
    {
     "name": "stdout",
     "output_type": "stream",
     "text": [
      "Fitting 5 folds for each of 648 candidates, totalling 3240 fits\n",
      "Best parameters: {'bootstrap': True, 'max_depth': 10, 'max_features': None, 'min_samples_leaf': 4, 'min_samples_split': 10, 'n_estimators': 300}\n"
     ]
    }
   ],
   "source": [
    "from sklearn.ensemble import RandomForestRegressor\n",
    "from sklearn.model_selection import GridSearchCV\n",
    "\n",
    "param_grid = {\n",
    "    'n_estimators': [100, 200, 300],\n",
    "    'max_depth': [10, 20, 30, None],\n",
    "    'min_samples_split': [2, 5, 10],\n",
    "    'min_samples_leaf': [1, 2, 4],\n",
    "    'max_features': ['sqrt', 'log2', None],  # Replacing 'auto' with valid options\n",
    "    'bootstrap': [True, False]\n",
    "}\n",
    "\n",
    "# Initialize the RandomForestRegressor\n",
    "rf = RandomForestRegressor(random_state=42)\n",
    "\n",
    "# Apply GridSearchCV\n",
    "grid_search = GridSearchCV(estimator=rf, param_grid=param_grid, cv=5, n_jobs=-1, verbose=2, error_score='raise')\n",
    "grid_search.fit(X_train, Y_train)\n",
    "\n",
    "# Check the best parameters and performance\n",
    "print(f'Best parameters: {grid_search.best_params_}')\n",
    "best_rf = grid_search.best_estimator_\n"
   ]
  },
  {
   "cell_type": "code",
   "execution_count": 49,
   "id": "0646f147-9bf9-484f-aa2d-66ad5492fa42",
   "metadata": {},
   "outputs": [
    {
     "name": "stdout",
     "output_type": "stream",
     "text": [
      "Country         0\n",
      "EdLevel         0\n",
      "YearsCodePro    0\n",
      "dtype: int64\n"
     ]
    }
   ],
   "source": [
    "print(X_train.isnull().sum())"
   ]
  },
  {
   "cell_type": "code",
   "execution_count": 51,
   "id": "29331281-59b1-4012-9622-4b8d704a80fd",
   "metadata": {},
   "outputs": [
    {
     "name": "stdout",
     "output_type": "stream",
     "text": [
      "Optimized Random Forest Mean Squared Error: 1121305600.704561\n",
      "Optimized Random Forest R^2 Score: 0.5973438877460224\n"
     ]
    }
   ],
   "source": [
    "# Use the best parameters to initialize the RandomForestRegressor\n",
    "best_rf = RandomForestRegressor(\n",
    "    bootstrap=True,\n",
    "    max_depth=10,\n",
    "    max_features=None,\n",
    "    min_samples_leaf=4,\n",
    "    min_samples_split=10,\n",
    "    n_estimators=300,\n",
    "    random_state=42\n",
    ")\n",
    "\n",
    "# Train the model on the training data\n",
    "best_rf.fit(X_train, Y_train)\n",
    "\n",
    "# Predict the target values for the test set\n",
    "Y_pred = best_rf.predict(X_test)\n",
    "\n",
    "# Evaluate the performance of the model\n",
    "mse = mean_squared_error(Y_test, Y_pred)\n",
    "r2 = r2_score(Y_test, Y_pred)\n",
    "\n",
    "print(f'Optimized Random Forest Mean Squared Error: {mse}')\n",
    "print(f'Optimized Random Forest R^2 Score: {r2}')\n"
   ]
  },
  {
   "cell_type": "code",
   "execution_count": 54,
   "id": "c808f810-4402-481f-9d97-67802efc57ee",
   "metadata": {},
   "outputs": [
    {
     "name": "stdout",
     "output_type": "stream",
     "text": [
      "Collecting xgboostNote: you may need to restart the kernel to use updated packages.\n",
      "\n",
      "  Downloading xgboost-2.1.1-py3-none-win_amd64.whl.metadata (2.1 kB)\n",
      "Requirement already satisfied: numpy in c:\\users\\rania\\desktop\\irl_internship\\backend_sessions\\salary prediction app\\.env_sal_pred\\lib\\site-packages (from xgboost) (2.1.1)\n",
      "Requirement already satisfied: scipy in c:\\users\\rania\\desktop\\irl_internship\\backend_sessions\\salary prediction app\\.env_sal_pred\\lib\\site-packages (from xgboost) (1.14.1)\n",
      "Downloading xgboost-2.1.1-py3-none-win_amd64.whl (124.9 MB)\n",
      "   ---------------------------------------- 0.0/124.9 MB ? eta -:--:--\n",
      "   ---------------------------------------- 0.0/124.9 MB ? eta -:--:--\n",
      "   ---------------------------------------- 0.3/124.9 MB ? eta -:--:--\n",
      "   ---------------------------------------- 0.3/124.9 MB ? eta -:--:--\n",
      "   ---------------------------------------- 0.8/124.9 MB 1.2 MB/s eta 0:01:40\n",
      "   ---------------------------------------- 1.0/124.9 MB 1.3 MB/s eta 0:01:34\n",
      "   ---------------------------------------- 1.3/124.9 MB 1.3 MB/s eta 0:01:34\n",
      "    --------------------------------------- 1.6/124.9 MB 1.4 MB/s eta 0:01:32\n",
      "    --------------------------------------- 1.8/124.9 MB 1.3 MB/s eta 0:01:32\n",
      "    --------------------------------------- 2.4/124.9 MB 1.5 MB/s eta 0:01:25\n",
      "    --------------------------------------- 2.6/124.9 MB 1.5 MB/s eta 0:01:22\n",
      "   - -------------------------------------- 3.1/124.9 MB 1.6 MB/s eta 0:01:18\n",
      "   - -------------------------------------- 3.7/124.9 MB 1.7 MB/s eta 0:01:13\n",
      "   - -------------------------------------- 4.2/124.9 MB 1.7 MB/s eta 0:01:10\n",
      "   - -------------------------------------- 4.7/124.9 MB 1.8 MB/s eta 0:01:08\n",
      "   - -------------------------------------- 5.2/124.9 MB 1.9 MB/s eta 0:01:05\n",
      "   - -------------------------------------- 5.8/124.9 MB 1.9 MB/s eta 0:01:02\n",
      "   -- ------------------------------------- 6.6/124.9 MB 2.0 MB/s eta 0:00:59\n",
      "   -- ------------------------------------- 7.1/124.9 MB 2.0 MB/s eta 0:00:58\n",
      "   -- ------------------------------------- 7.6/124.9 MB 2.1 MB/s eta 0:00:56\n",
      "   -- ------------------------------------- 8.4/124.9 MB 2.2 MB/s eta 0:00:54\n",
      "   --- ------------------------------------ 9.4/124.9 MB 2.3 MB/s eta 0:00:50\n",
      "   --- ------------------------------------ 10.5/124.9 MB 2.4 MB/s eta 0:00:47\n",
      "   --- ------------------------------------ 11.3/124.9 MB 2.5 MB/s eta 0:00:46\n",
      "   --- ------------------------------------ 12.3/124.9 MB 2.6 MB/s eta 0:00:44\n",
      "   ---- ----------------------------------- 13.1/124.9 MB 2.7 MB/s eta 0:00:42\n",
      "   ---- ----------------------------------- 14.4/124.9 MB 2.8 MB/s eta 0:00:39\n",
      "   ----- ---------------------------------- 15.7/124.9 MB 3.0 MB/s eta 0:00:37\n",
      "   ----- ---------------------------------- 16.5/124.9 MB 3.0 MB/s eta 0:00:36\n",
      "   ----- ---------------------------------- 17.8/124.9 MB 3.1 MB/s eta 0:00:35\n",
      "   ------ --------------------------------- 19.4/124.9 MB 3.3 MB/s eta 0:00:33\n",
      "   ------ --------------------------------- 20.4/124.9 MB 3.3 MB/s eta 0:00:32\n",
      "   ------ --------------------------------- 21.5/124.9 MB 3.4 MB/s eta 0:00:31\n",
      "   ------- -------------------------------- 22.8/124.9 MB 3.5 MB/s eta 0:00:30\n",
      "   ------- -------------------------------- 23.9/124.9 MB 3.5 MB/s eta 0:00:29\n",
      "   -------- ------------------------------- 25.4/124.9 MB 3.6 MB/s eta 0:00:28\n",
      "   -------- ------------------------------- 26.7/124.9 MB 3.7 MB/s eta 0:00:27\n",
      "   --------- ------------------------------ 28.3/124.9 MB 3.8 MB/s eta 0:00:26\n",
      "   --------- ------------------------------ 29.6/124.9 MB 3.9 MB/s eta 0:00:25\n",
      "   --------- ------------------------------ 31.2/124.9 MB 4.0 MB/s eta 0:00:24\n",
      "   ---------- ----------------------------- 32.0/124.9 MB 4.0 MB/s eta 0:00:24\n",
      "   ---------- ----------------------------- 33.6/124.9 MB 4.1 MB/s eta 0:00:23\n",
      "   ----------- ---------------------------- 35.9/124.9 MB 4.2 MB/s eta 0:00:21\n",
      "   ------------ --------------------------- 37.5/124.9 MB 4.4 MB/s eta 0:00:21\n",
      "   ------------ --------------------------- 39.3/124.9 MB 4.4 MB/s eta 0:00:20\n",
      "   ------------- -------------------------- 40.6/124.9 MB 4.5 MB/s eta 0:00:19\n",
      "   ------------- -------------------------- 42.2/124.9 MB 4.6 MB/s eta 0:00:19\n",
      "   ------------- -------------------------- 43.5/124.9 MB 4.6 MB/s eta 0:00:18\n",
      "   -------------- ------------------------- 44.6/124.9 MB 4.6 MB/s eta 0:00:18\n",
      "   -------------- ------------------------- 45.6/124.9 MB 4.6 MB/s eta 0:00:18\n",
      "   -------------- ------------------------- 46.1/124.9 MB 4.6 MB/s eta 0:00:18\n",
      "   --------------- ------------------------ 46.9/124.9 MB 4.6 MB/s eta 0:00:17\n",
      "   --------------- ------------------------ 48.0/124.9 MB 4.6 MB/s eta 0:00:17\n",
      "   --------------- ------------------------ 48.8/124.9 MB 4.6 MB/s eta 0:00:17\n",
      "   ---------------- ----------------------- 50.3/124.9 MB 4.6 MB/s eta 0:00:17\n",
      "   ---------------- ----------------------- 51.1/124.9 MB 4.6 MB/s eta 0:00:16\n",
      "   ---------------- ----------------------- 51.4/124.9 MB 4.6 MB/s eta 0:00:17\n",
      "   ---------------- ----------------------- 51.6/124.9 MB 4.5 MB/s eta 0:00:17\n",
      "   ---------------- ----------------------- 52.4/124.9 MB 4.5 MB/s eta 0:00:17\n",
      "   ---------------- ----------------------- 53.0/124.9 MB 4.4 MB/s eta 0:00:17\n",
      "   ---------------- ----------------------- 53.0/124.9 MB 4.4 MB/s eta 0:00:17\n",
      "   ----------------- ---------------------- 53.5/124.9 MB 4.3 MB/s eta 0:00:17\n",
      "   ----------------- ---------------------- 53.7/124.9 MB 4.3 MB/s eta 0:00:17\n",
      "   ----------------- ---------------------- 54.0/124.9 MB 4.2 MB/s eta 0:00:17\n",
      "   ----------------- ---------------------- 54.3/124.9 MB 4.2 MB/s eta 0:00:17\n",
      "   ----------------- ---------------------- 54.3/124.9 MB 4.2 MB/s eta 0:00:17\n",
      "   ----------------- ---------------------- 54.8/124.9 MB 4.1 MB/s eta 0:00:18\n",
      "   ----------------- ---------------------- 55.3/124.9 MB 4.1 MB/s eta 0:00:18\n",
      "   ----------------- ---------------------- 55.6/124.9 MB 4.1 MB/s eta 0:00:18\n",
      "   ----------------- ---------------------- 56.1/124.9 MB 4.0 MB/s eta 0:00:18\n",
      "   ------------------ --------------------- 56.6/124.9 MB 4.0 MB/s eta 0:00:18\n",
      "   ------------------ --------------------- 57.4/124.9 MB 4.0 MB/s eta 0:00:17\n",
      "   ------------------ --------------------- 57.9/124.9 MB 4.0 MB/s eta 0:00:17\n",
      "   ------------------ --------------------- 58.2/124.9 MB 4.0 MB/s eta 0:00:17\n",
      "   ------------------ --------------------- 58.5/124.9 MB 3.9 MB/s eta 0:00:18\n",
      "   ------------------ --------------------- 58.7/124.9 MB 3.9 MB/s eta 0:00:18\n",
      "   ------------------ --------------------- 59.2/124.9 MB 3.8 MB/s eta 0:00:18\n",
      "   ------------------- -------------------- 59.8/124.9 MB 3.8 MB/s eta 0:00:18\n",
      "   ------------------- -------------------- 60.0/124.9 MB 3.8 MB/s eta 0:00:18\n",
      "   ------------------- -------------------- 60.6/124.9 MB 3.8 MB/s eta 0:00:18\n",
      "   ------------------- -------------------- 60.8/124.9 MB 3.8 MB/s eta 0:00:17\n",
      "   ------------------- -------------------- 61.3/124.9 MB 3.7 MB/s eta 0:00:18\n",
      "   ------------------- -------------------- 61.6/124.9 MB 3.7 MB/s eta 0:00:18\n",
      "   ------------------- -------------------- 62.1/124.9 MB 3.7 MB/s eta 0:00:18\n",
      "   ------------------- -------------------- 62.4/124.9 MB 3.7 MB/s eta 0:00:18\n",
      "   -------------------- ------------------- 62.9/124.9 MB 3.6 MB/s eta 0:00:18\n",
      "   -------------------- ------------------- 63.4/124.9 MB 3.6 MB/s eta 0:00:17\n",
      "   -------------------- ------------------- 64.0/124.9 MB 3.6 MB/s eta 0:00:17\n",
      "   -------------------- ------------------- 64.7/124.9 MB 3.6 MB/s eta 0:00:17\n",
      "   -------------------- ------------------- 65.3/124.9 MB 3.6 MB/s eta 0:00:17\n",
      "   --------------------- ------------------ 65.8/124.9 MB 3.6 MB/s eta 0:00:17\n",
      "   --------------------- ------------------ 66.1/124.9 MB 3.6 MB/s eta 0:00:17\n",
      "   --------------------- ------------------ 66.6/124.9 MB 3.6 MB/s eta 0:00:17\n",
      "   --------------------- ------------------ 66.8/124.9 MB 3.5 MB/s eta 0:00:17\n",
      "   --------------------- ------------------ 67.4/124.9 MB 3.5 MB/s eta 0:00:17\n",
      "   --------------------- ------------------ 67.6/124.9 MB 3.5 MB/s eta 0:00:17\n",
      "   --------------------- ------------------ 68.2/124.9 MB 3.5 MB/s eta 0:00:17\n",
      "   ---------------------- ----------------- 68.9/124.9 MB 3.5 MB/s eta 0:00:17\n",
      "   ---------------------- ----------------- 69.5/124.9 MB 3.5 MB/s eta 0:00:16\n",
      "   ---------------------- ----------------- 70.0/124.9 MB 3.5 MB/s eta 0:00:16\n",
      "   ---------------------- ----------------- 70.8/124.9 MB 3.5 MB/s eta 0:00:16\n",
      "   ---------------------- ----------------- 70.8/124.9 MB 3.5 MB/s eta 0:00:16\n",
      "   ---------------------- ----------------- 71.3/124.9 MB 3.4 MB/s eta 0:00:16\n",
      "   ----------------------- ---------------- 71.8/124.9 MB 3.4 MB/s eta 0:00:16\n",
      "   ----------------------- ---------------- 71.8/124.9 MB 3.4 MB/s eta 0:00:16\n",
      "   ----------------------- ---------------- 73.1/124.9 MB 3.4 MB/s eta 0:00:16\n",
      "   ----------------------- ---------------- 73.7/124.9 MB 3.4 MB/s eta 0:00:16\n",
      "   ----------------------- ---------------- 74.2/124.9 MB 3.4 MB/s eta 0:00:15\n",
      "   ------------------------ --------------- 75.0/124.9 MB 3.4 MB/s eta 0:00:15\n",
      "   ------------------------ --------------- 75.5/124.9 MB 3.4 MB/s eta 0:00:15\n",
      "   ------------------------ --------------- 75.8/124.9 MB 3.4 MB/s eta 0:00:15\n",
      "   ------------------------ --------------- 77.3/124.9 MB 3.4 MB/s eta 0:00:14\n",
      "   ------------------------- -------------- 78.4/124.9 MB 3.4 MB/s eta 0:00:14\n",
      "   ------------------------- -------------- 79.7/124.9 MB 3.4 MB/s eta 0:00:14\n",
      "   ------------------------- -------------- 81.0/124.9 MB 3.5 MB/s eta 0:00:13\n",
      "   -------------------------- ------------- 82.3/124.9 MB 3.5 MB/s eta 0:00:13\n",
      "   -------------------------- ------------- 83.9/124.9 MB 3.5 MB/s eta 0:00:12\n",
      "   --------------------------- ------------ 84.7/124.9 MB 3.5 MB/s eta 0:00:12\n",
      "   --------------------------- ------------ 85.5/124.9 MB 3.5 MB/s eta 0:00:12\n",
      "   --------------------------- ------------ 86.2/124.9 MB 3.5 MB/s eta 0:00:11\n",
      "   ---------------------------- ----------- 88.1/124.9 MB 3.6 MB/s eta 0:00:11\n",
      "   ---------------------------- ----------- 88.9/124.9 MB 3.6 MB/s eta 0:00:11\n",
      "   ---------------------------- ----------- 89.1/124.9 MB 3.6 MB/s eta 0:00:11\n",
      "   ---------------------------- ----------- 89.9/124.9 MB 3.6 MB/s eta 0:00:10\n",
      "   ---------------------------- ----------- 90.2/124.9 MB 3.6 MB/s eta 0:00:10\n",
      "   ---------------------------- ----------- 90.4/124.9 MB 3.5 MB/s eta 0:00:10\n",
      "   ----------------------------- ---------- 91.0/124.9 MB 3.5 MB/s eta 0:00:10\n",
      "   ----------------------------- ---------- 91.0/124.9 MB 3.5 MB/s eta 0:00:10\n",
      "   ----------------------------- ---------- 91.8/124.9 MB 3.5 MB/s eta 0:00:10\n",
      "   ----------------------------- ---------- 92.5/124.9 MB 3.5 MB/s eta 0:00:10\n",
      "   ----------------------------- ---------- 93.3/124.9 MB 3.5 MB/s eta 0:00:10\n",
      "   ------------------------------ --------- 94.1/124.9 MB 3.5 MB/s eta 0:00:09\n",
      "   ------------------------------ --------- 94.6/124.9 MB 3.5 MB/s eta 0:00:09\n",
      "   ------------------------------ --------- 95.2/124.9 MB 3.5 MB/s eta 0:00:09\n",
      "   ------------------------------ --------- 95.9/124.9 MB 3.5 MB/s eta 0:00:09\n",
      "   ------------------------------ --------- 96.7/124.9 MB 3.5 MB/s eta 0:00:09\n",
      "   ------------------------------- -------- 97.5/124.9 MB 3.5 MB/s eta 0:00:08\n",
      "   ------------------------------- -------- 98.0/124.9 MB 3.5 MB/s eta 0:00:08\n",
      "   ------------------------------- -------- 98.3/124.9 MB 3.5 MB/s eta 0:00:08\n",
      "   ------------------------------- -------- 99.1/124.9 MB 3.5 MB/s eta 0:00:08\n",
      "   -------------------------------- ------- 100.1/124.9 MB 3.5 MB/s eta 0:00:08\n",
      "   -------------------------------- ------- 101.2/124.9 MB 3.5 MB/s eta 0:00:07\n",
      "   -------------------------------- ------- 102.5/124.9 MB 3.5 MB/s eta 0:00:07\n",
      "   --------------------------------- ------ 103.5/124.9 MB 3.5 MB/s eta 0:00:07\n",
      "   --------------------------------- ------ 104.9/124.9 MB 3.5 MB/s eta 0:00:06\n",
      "   --------------------------------- ------ 105.6/124.9 MB 3.5 MB/s eta 0:00:06\n",
      "   ---------------------------------- ----- 106.7/124.9 MB 3.6 MB/s eta 0:00:06\n",
      "   ---------------------------------- ----- 107.7/124.9 MB 3.6 MB/s eta 0:00:05\n",
      "   ---------------------------------- ----- 108.3/124.9 MB 3.6 MB/s eta 0:00:05\n",
      "   ---------------------------------- ----- 108.8/124.9 MB 3.6 MB/s eta 0:00:05\n",
      "   ---------------------------------- ----- 109.1/124.9 MB 3.6 MB/s eta 0:00:05\n",
      "   ----------------------------------- ---- 109.3/124.9 MB 3.6 MB/s eta 0:00:05\n",
      "   ----------------------------------- ---- 110.4/124.9 MB 3.6 MB/s eta 0:00:05\n",
      "   ----------------------------------- ---- 111.1/124.9 MB 3.6 MB/s eta 0:00:04\n",
      "   ----------------------------------- ---- 111.9/124.9 MB 3.6 MB/s eta 0:00:04\n",
      "   ------------------------------------ --- 113.0/124.9 MB 3.7 MB/s eta 0:00:04\n",
      "   ------------------------------------ --- 114.3/124.9 MB 3.7 MB/s eta 0:00:03\n",
      "   ------------------------------------- -- 115.6/124.9 MB 3.7 MB/s eta 0:00:03\n",
      "   ------------------------------------- -- 116.9/124.9 MB 3.7 MB/s eta 0:00:03\n",
      "   ------------------------------------- -- 118.2/124.9 MB 3.8 MB/s eta 0:00:02\n",
      "   -------------------------------------- - 119.0/124.9 MB 3.8 MB/s eta 0:00:02\n",
      "   -------------------------------------- - 120.1/124.9 MB 3.8 MB/s eta 0:00:02\n",
      "   -------------------------------------- - 121.1/124.9 MB 3.8 MB/s eta 0:00:01\n",
      "   ---------------------------------------  122.7/124.9 MB 3.8 MB/s eta 0:00:01\n",
      "   ---------------------------------------  123.7/124.9 MB 3.8 MB/s eta 0:00:01\n",
      "   ---------------------------------------  124.5/124.9 MB 3.8 MB/s eta 0:00:01\n",
      "   ---------------------------------------  124.8/124.9 MB 3.8 MB/s eta 0:00:01\n",
      "   ---------------------------------------  124.8/124.9 MB 3.8 MB/s eta 0:00:01\n",
      "   ---------------------------------------- 124.9/124.9 MB 3.8 MB/s eta 0:00:00\n",
      "Installing collected packages: xgboost\n",
      "Successfully installed xgboost-2.1.1\n"
     ]
    }
   ],
   "source": [
    "pip install xgboost"
   ]
  },
  {
   "cell_type": "code",
   "execution_count": 56,
   "id": "2fda82cf-8d34-4a99-8a2b-061b1c62b9dc",
   "metadata": {},
   "outputs": [],
   "source": [
    "df['YearsCodePro'] = pd.to_numeric(df['YearsCodePro'], errors='coerce')"
   ]
  },
  {
   "cell_type": "code",
   "execution_count": 66,
   "id": "9c348a24-c8d9-47af-896a-72d74d89c3e0",
   "metadata": {},
   "outputs": [
    {
     "name": "stdout",
     "output_type": "stream",
     "text": [
      "Root Mean Squared Error (RMSE): 33485.90152145468\n"
     ]
    }
   ],
   "source": [
    "import numpy as np\n",
    "mse = 1121305600.704561 \n",
    "rmse = np.sqrt(mse)\n",
    "\n",
    "print(f'Root Mean Squared Error (RMSE): {rmse}')"
   ]
  },
  {
   "cell_type": "code",
   "execution_count": 67,
   "id": "1486d18b-76fd-4c32-a2a3-ba7fd9290ccf",
   "metadata": {},
   "outputs": [
    {
     "data": {
      "text/plain": [
       "Salary\n",
       "64444.0     194\n",
       "150000.0    182\n",
       "53703.0     179\n",
       "200000.0    172\n",
       "120000.0    163\n",
       "           ... \n",
       "187203.0      1\n",
       "43356.0       1\n",
       "64898.0       1\n",
       "155255.0      1\n",
       "91171.0       1\n",
       "Name: count, Length: 2302, dtype: int64"
      ]
     },
     "execution_count": 67,
     "metadata": {},
     "output_type": "execute_result"
    }
   ],
   "source": [
    "df['Salary'].value_counts()"
   ]
  },
  {
   "cell_type": "code",
   "execution_count": 70,
   "id": "d894e696-e680-4c4d-91f9-58838523eeeb",
   "metadata": {},
   "outputs": [
    {
     "data": {
      "text/plain": [
       "Country\n",
       "13    3934\n",
       "4     1629\n",
       "12    1196\n",
       "11     883\n",
       "3      773\n",
       "2      751\n",
       "5      628\n",
       "1      505\n",
       "9      487\n",
       "6      450\n",
       "7      432\n",
       "0      432\n",
       "8      413\n",
       "10     378\n",
       "Name: count, dtype: int64"
      ]
     },
     "execution_count": 70,
     "metadata": {},
     "output_type": "execute_result"
    }
   ],
   "source": [
    "df['Country'].value_counts()"
   ]
  },
  {
   "cell_type": "code",
   "execution_count": 71,
   "id": "157477d4-8799-47a9-a0d7-157b2c29c04c",
   "metadata": {},
   "outputs": [
    {
     "data": {
      "text/plain": [
       "array([['United States of America', \"Master's degree\", '15']],\n",
       "      dtype='<U24')"
      ]
     },
     "execution_count": 71,
     "metadata": {},
     "output_type": "execute_result"
    }
   ],
   "source": [
    "x = np.array([['United States of America', 'Master\\'s degree', 15]])\n",
    "x"
   ]
  },
  {
   "cell_type": "code",
   "execution_count": 81,
   "id": "2a1a0125-93ca-48b5-81d2-4edb3949042c",
   "metadata": {},
   "outputs": [
    {
     "data": {
      "text/plain": [
       "array([[13.,  3., 15.]])"
      ]
     },
     "execution_count": 81,
     "metadata": {},
     "output_type": "execute_result"
    }
   ],
   "source": [
    "x[:,0] = le_country.transform(x[:,0])\n",
    "x[:,1] = le_education.transform(x[:,1])\n",
    "x = x.astype(float)\n",
    "x"
   ]
  },
  {
   "cell_type": "code",
   "execution_count": 82,
   "id": "995f7bb5-cbe8-4ca0-8d10-4dbf72f2a8d6",
   "metadata": {},
   "outputs": [
    {
     "name": "stderr",
     "output_type": "stream",
     "text": [
      "C:\\Users\\rania\\Desktop\\IRL_Internship\\backend_sessions\\Salary Prediction App\\.env_sal_pred\\Lib\\site-packages\\sklearn\\base.py:493: UserWarning: X does not have valid feature names, but RandomForestRegressor was fitted with feature names\n",
      "  warnings.warn(\n"
     ]
    },
    {
     "data": {
      "text/plain": [
       "array([156563.04436118])"
      ]
     },
     "execution_count": 82,
     "metadata": {},
     "output_type": "execute_result"
    }
   ],
   "source": [
    "y_pred = best_rf.predict(x)\n",
    "y_pred"
   ]
  },
  {
   "cell_type": "code",
   "execution_count": 75,
   "id": "8eeb003a-6c19-4d89-87e2-cdc2d34a6fb4",
   "metadata": {},
   "outputs": [],
   "source": [
    "import pickle"
   ]
  },
  {
   "cell_type": "code",
   "execution_count": 76,
   "id": "cc1d4ad8-b79c-4224-adc9-0972d28120a6",
   "metadata": {},
   "outputs": [],
   "source": [
    "data = {\"model\":best_rf, \"le_country\": label_country, \"le_education\": label_ed}\n",
    "with open('saved_steps.pkl', 'wb') as file:\n",
    "    pickle.dump(data, file)"
   ]
  },
  {
   "cell_type": "code",
   "execution_count": 77,
   "id": "f39d2b85-32c5-4579-862a-193c2ed761ab",
   "metadata": {},
   "outputs": [],
   "source": [
    "with open('saved_steps.pkl', 'rb') as file:\n",
    "    data = pickle.load(file)\n",
    "\n",
    "regressor_loaded = data[\"model\"]\n",
    "le_country = data[\"le_country\"]\n",
    "le_education = data[\"le_education\"]"
   ]
  },
  {
   "cell_type": "code",
   "execution_count": 78,
   "id": "50f90ef9-187e-43b0-a6f6-8e5973bfa199",
   "metadata": {},
   "outputs": [
    {
     "name": "stderr",
     "output_type": "stream",
     "text": [
      "C:\\Users\\rania\\Desktop\\IRL_Internship\\backend_sessions\\Salary Prediction App\\.env_sal_pred\\Lib\\site-packages\\sklearn\\base.py:493: UserWarning: X does not have valid feature names, but RandomForestRegressor was fitted with feature names\n",
      "  warnings.warn(\n"
     ]
    },
    {
     "data": {
      "text/plain": [
       "array([156563.04436118])"
      ]
     },
     "execution_count": 78,
     "metadata": {},
     "output_type": "execute_result"
    }
   ],
   "source": [
    "y_pred = regressor_loaded.predict(x)\n",
    "y_pred"
   ]
  },
  {
   "cell_type": "code",
   "execution_count": null,
   "id": "d8e65f1a-7d1e-4574-9c2d-fcf807102f03",
   "metadata": {},
   "outputs": [],
   "source": []
  }
 ],
 "metadata": {
  "kernelspec": {
   "display_name": "Python 3 (ipykernel)",
   "language": "python",
   "name": "python3"
  },
  "language_info": {
   "codemirror_mode": {
    "name": "ipython",
    "version": 3
   },
   "file_extension": ".py",
   "mimetype": "text/x-python",
   "name": "python",
   "nbconvert_exporter": "python",
   "pygments_lexer": "ipython3",
   "version": "3.12.6"
  }
 },
 "nbformat": 4,
 "nbformat_minor": 5
}
